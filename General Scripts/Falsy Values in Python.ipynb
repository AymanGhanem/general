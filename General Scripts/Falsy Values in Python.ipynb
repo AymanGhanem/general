{
 "cells": [
  {
   "cell_type": "code",
   "execution_count": 1,
   "metadata": {},
   "outputs": [
    {
     "name": "stdout",
     "output_type": "stream",
     "text": [
      "0 is falsy!\n",
      " is falsy!\n",
      "[] is falsy!\n",
      "() is falsy!\n",
      "0.0 is falsy!\n",
      "None is falsy!\n",
      "False is falsy!\n",
      "{} is falsy!\n"
     ]
    }
   ],
   "source": [
    "#Testing falsy values in Python\n",
    "falsy = [0,'',[],tuple(),0.0,None,False,{}]\n",
    "for element in falsy :\n",
    "    if (element) :\n",
    "        print(\"{} is not falsy!\".format(element))\n",
    "    else :\n",
    "        print(\"{} is falsy!\".format(element))"
   ]
  },
  {
   "cell_type": "code",
   "execution_count": 2,
   "metadata": {},
   "outputs": [
    {
     "data": {
      "text/plain": [
       "False"
      ]
     },
     "execution_count": 2,
     "metadata": {},
     "output_type": "execute_result"
    }
   ],
   "source": [
    "#Another way to check falsy values\n",
    "any(falsy) #So falsy list doesn't contain any not falsy value."
   ]
  },
  {
   "cell_type": "code",
   "execution_count": 3,
   "metadata": {},
   "outputs": [
    {
     "data": {
      "text/plain": [
       "True"
      ]
     },
     "execution_count": 3,
     "metadata": {},
     "output_type": "execute_result"
    }
   ],
   "source": [
    "#Numpy missing values and other special values\n",
    "import numpy as np\n",
    "numpy_vals = [np.nan,np.inf]\n",
    "all(numpy_vals)  #They're all not falsy"
   ]
  },
  {
   "cell_type": "code",
   "execution_count": 4,
   "metadata": {},
   "outputs": [
    {
     "name": "stdout",
     "output_type": "stream",
     "text": [
      "[1 2 3 4 5.5 None 3]\n",
      "<class 'numpy.ndarray'>\n",
      "object\n"
     ]
    }
   ],
   "source": [
    "#How does a list with None values behave when converting it to numpy array\n",
    "l = [1,2,3,4,5.5,None,3]\n",
    "l_numpy = np.array(l)\n",
    "print(l_numpy)\n",
    "print(type(l_numpy))\n",
    "print(l_numpy.dtype)"
   ]
  },
  {
   "cell_type": "code",
   "execution_count": 5,
   "metadata": {},
   "outputs": [
    {
     "name": "stdout",
     "output_type": "stream",
     "text": [
      "['1' '2' '3' '4' '5' 'None' '3']\n",
      "<class 'numpy.ndarray'>\n",
      "<U4\n"
     ]
    }
   ],
   "source": [
    "l = [1,2,3,4,5,None,3]\n",
    "try :\n",
    "    l_numpy = np.array(l,dtype = 'str')\n",
    "    print(l_numpy)\n",
    "    print(type(l_numpy))\n",
    "    print(l_numpy.dtype)\n",
    "except :\n",
    "    print(\"We cann't convert a list with None value to a numpy array of type string.\")"
   ]
  },
  {
   "cell_type": "code",
   "execution_count": 6,
   "metadata": {},
   "outputs": [
    {
     "name": "stdout",
     "output_type": "stream",
     "text": [
      "We cann't convert a list with None value to a numpy array of type int.\n"
     ]
    }
   ],
   "source": [
    "l = [1,2,3,4,5,None,3]\n",
    "try :\n",
    "    l_numpy = np.array(l,dtype = 'int')\n",
    "    print(l_numpy)\n",
    "    print(type(l_numpy))\n",
    "    print(l_numpy.dtype)\n",
    "except :\n",
    "    print(\"We cann't convert a list with None value to a numpy array of type int.\")"
   ]
  },
  {
   "cell_type": "code",
   "execution_count": 7,
   "metadata": {},
   "outputs": [
    {
     "name": "stdout",
     "output_type": "stream",
     "text": [
      "[ 1.  2.  3.  4.  5. nan  3.]\n",
      "<class 'numpy.ndarray'>\n",
      "float64\n"
     ]
    }
   ],
   "source": [
    "l = [1,2,3,4,5,None,3]\n",
    "try :\n",
    "    #here None is converted to nan\n",
    "    l_numpy = np.array(l,dtype = 'float')\n",
    "    print(l_numpy)\n",
    "    print(type(l_numpy))\n",
    "    print(l_numpy.dtype)\n",
    "except :\n",
    "    print(\"We cann't convert a list with None value to a numpy array of type int.\")"
   ]
  },
  {
   "cell_type": "code",
   "execution_count": 8,
   "metadata": {},
   "outputs": [
    {
     "name": "stdout",
     "output_type": "stream",
     "text": [
      "np.isnan(arr)    =  [ True False False]\n",
      "np.isinf(arr)    =  [False False  True]\n",
      "np.isfinite(arr) =  [False  True False]\n"
     ]
    }
   ],
   "source": [
    "#Numpy methods that deals with nan and inf .\n",
    "arr = [np.nan,1,np.inf]\n",
    "print(\"np.isnan(arr)    = \",np.isnan(arr))\n",
    "print(\"np.isinf(arr)    = \",np.isinf(arr))\n",
    "print(\"np.isfinite(arr) = \",np.isfinite(arr))"
   ]
  },
  {
   "cell_type": "code",
   "execution_count": 9,
   "metadata": {},
   "outputs": [
    {
     "name": "stdout",
     "output_type": "stream",
     "text": [
      "3 + np.nan =  nan\n",
      "3 - np.nan =  nan\n",
      "3 * np.nan =  nan\n",
      "3 / np.nan =  nan\n"
     ]
    }
   ],
   "source": [
    "#Numpy in mathematical operations fails when nan is involved\n",
    "print(\"3 + np.nan = \",3 + np.nan)\n",
    "print(\"3 - np.nan = \",3 - np.nan)\n",
    "print(\"3 * np.nan = \",3 * np.nan)\n",
    "print(\"3 / np.nan = \",3 / np.nan)"
   ]
  },
  {
   "cell_type": "code",
   "execution_count": 10,
   "metadata": {},
   "outputs": [
    {
     "name": "stdout",
     "output_type": "stream",
     "text": [
      "np.isnan cann't work with None!\n"
     ]
    }
   ],
   "source": [
    "#isnan and isinf and isfinite don't work with None\n",
    "try :\n",
    "    print(np.isnan(None))\n",
    "except :\n",
    "    print(\"np.isnan cann't work with None!\")"
   ]
  },
  {
   "cell_type": "code",
   "execution_count": 11,
   "metadata": {},
   "outputs": [
    {
     "name": "stdout",
     "output_type": "stream",
     "text": [
      "np.isinf cann't work with None!\n"
     ]
    }
   ],
   "source": [
    "try :\n",
    "    print(np.isinf(None))\n",
    "except :\n",
    "    print(\"np.isinf cann't work with None!\")"
   ]
  },
  {
   "cell_type": "code",
   "execution_count": 12,
   "metadata": {},
   "outputs": [
    {
     "name": "stdout",
     "output_type": "stream",
     "text": [
      "np.isfinite cann't work with None!\n"
     ]
    }
   ],
   "source": [
    "try :\n",
    "    print(np.isfinite(None))\n",
    "except :\n",
    "    print(\"np.isfinite cann't work with None!\")"
   ]
  },
  {
   "cell_type": "code",
   "execution_count": 13,
   "metadata": {},
   "outputs": [
    {
     "name": "stdout",
     "output_type": "stream",
     "text": [
      "0    NaN\n",
      "1    inf\n",
      "2    NaN\n",
      "dtype: float64\n",
      "So pandas treat None as nan!\n"
     ]
    }
   ],
   "source": [
    "#How pandas work with missing values\n",
    "import pandas as pd\n",
    "li = [np.nan,np.inf,None]\n",
    "series = pd.Series(li)\n",
    "print(series)\n",
    "print(\"So pandas treat None as nan!\")"
   ]
  },
  {
   "cell_type": "code",
   "execution_count": 14,
   "metadata": {},
   "outputs": [
    {
     "data": {
      "text/plain": [
       "0   NaN\n",
       "1   NaN\n",
       "2   NaN\n",
       "dtype: float64"
      ]
     },
     "execution_count": 14,
     "metadata": {},
     "output_type": "execute_result"
    }
   ],
   "source": [
    "#To replcae inf with nan  --Because normally inf doesn't treated by default as nan.\n",
    "#Here we just explore so we'll not save changes to objects.\n",
    "series.replace(np.inf,np.nan)"
   ]
  },
  {
   "cell_type": "code",
   "execution_count": 15,
   "metadata": {},
   "outputs": [
    {
     "name": "stdout",
     "output_type": "stream",
     "text": [
      "0     NaN\n",
      "1       1\n",
      "2     inf\n",
      "3     2.2\n",
      "4    None\n",
      "5     str\n",
      "dtype: object\n"
     ]
    }
   ],
   "source": [
    "li = [np.nan,1,np.inf,2.2,None,'str']\n",
    "series = pd.Series(li)\n",
    "print(series)"
   ]
  },
  {
   "cell_type": "code",
   "execution_count": 16,
   "metadata": {},
   "outputs": [
    {
     "name": "stdout",
     "output_type": "stream",
     "text": [
      "0     True\n",
      "1    False\n",
      "2    False\n",
      "3    False\n",
      "4     True\n",
      "5    False\n",
      "dtype: bool\n"
     ]
    }
   ],
   "source": [
    "print(pd.isnull(series))"
   ]
  },
  {
   "cell_type": "code",
   "execution_count": 17,
   "metadata": {},
   "outputs": [
    {
     "name": "stdout",
     "output_type": "stream",
     "text": [
      "0     True\n",
      "1    False\n",
      "2    False\n",
      "3    False\n",
      "4     True\n",
      "5    False\n",
      "dtype: bool\n"
     ]
    }
   ],
   "source": [
    "print(pd.isna(series))"
   ]
  },
  {
   "cell_type": "code",
   "execution_count": 18,
   "metadata": {},
   "outputs": [
    {
     "name": "stdout",
     "output_type": "stream",
     "text": [
      "0    False\n",
      "1     True\n",
      "2     True\n",
      "3     True\n",
      "4    False\n",
      "5     True\n",
      "dtype: bool\n"
     ]
    }
   ],
   "source": [
    "print(pd.notnull(series))"
   ]
  },
  {
   "cell_type": "code",
   "execution_count": 19,
   "metadata": {},
   "outputs": [
    {
     "name": "stdout",
     "output_type": "stream",
     "text": [
      "0    False\n",
      "1     True\n",
      "2     True\n",
      "3     True\n",
      "4    False\n",
      "5     True\n",
      "dtype: bool\n"
     ]
    }
   ],
   "source": [
    "print(pd.notna(series))"
   ]
  },
  {
   "cell_type": "markdown",
   "metadata": {},
   "source": [
    "<h1>24/12/2020</h1>"
   ]
  }
 ],
 "metadata": {
  "kernelspec": {
   "display_name": "Python 3",
   "language": "python",
   "name": "python3"
  },
  "language_info": {
   "codemirror_mode": {
    "name": "ipython",
    "version": 3
   },
   "file_extension": ".py",
   "mimetype": "text/x-python",
   "name": "python",
   "nbconvert_exporter": "python",
   "pygments_lexer": "ipython3",
   "version": "3.7.3"
  }
 },
 "nbformat": 4,
 "nbformat_minor": 2
}
