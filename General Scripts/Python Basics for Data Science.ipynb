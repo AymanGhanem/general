{
 "cells": [
  {
   "cell_type": "markdown",
   "metadata": {},
   "source": [
    "# Introduction to Python (Python Basics)"
   ]
  },
  {
   "cell_type": "code",
   "execution_count": 1,
   "metadata": {},
   "outputs": [],
   "source": [
    "#types\n",
    "vint = 3\n",
    "vfloat = 5.4\n",
    "vbool = True\n",
    "vlist = [1,2,3]\n",
    "vtuple = (1,2,3)\n",
    "vstr = 'hello'\n",
    "vdic = {'id' : [1,2,3]}\n",
    "vset = set(range(1,11))"
   ]
  },
  {
   "cell_type": "code",
   "execution_count": 2,
   "metadata": {},
   "outputs": [
    {
     "name": "stdout",
     "output_type": "stream",
     "text": [
      "3 <class 'int'>\n",
      "5.4 <class 'float'>\n",
      "hello <class 'str'>\n",
      "[1, 2, 3] <class 'list'>\n",
      "(1, 2, 3) <class 'tuple'>\n",
      "{1, 2, 3, 4, 5, 6, 7, 8, 9, 10} <class 'set'>\n",
      "{'id': [1, 2, 3]} <class 'dict'>\n",
      "True <class 'bool'>\n"
     ]
    }
   ],
   "source": [
    "print(vint,type(vint))\n",
    "print(vfloat,type(vfloat))\n",
    "print(vstr,type(vstr))\n",
    "print(vlist,type(vlist))\n",
    "print(vtuple,type(vtuple))\n",
    "print(vset,type(vset))\n",
    "print(vdic,type(vdic))\n",
    "print(vbool,type(vbool))"
   ]
  },
  {
   "cell_type": "code",
   "execution_count": 3,
   "metadata": {},
   "outputs": [],
   "source": [
    "#Lists\n",
    "li = list(range(1,11))"
   ]
  },
  {
   "cell_type": "code",
   "execution_count": 4,
   "metadata": {},
   "outputs": [
    {
     "name": "stdout",
     "output_type": "stream",
     "text": [
      "li[0:3]  [1, 2, 3]\n",
      "li[:3]  [1, 2, 3]\n",
      "li[0:]  [1, 2, 3, 4, 5, 6, 7, 8, 9, 10]\n",
      "li[0]  1\n",
      "li[-1:]  [10]\n",
      "li[:-1]  [1, 2, 3, 4, 5, 6, 7, 8, 9]\n",
      "li[-1:4]  []\n",
      "li[-1:-4]  []\n",
      "li[-6:-4]  [5, 6]\n"
     ]
    }
   ],
   "source": [
    "#1.List slicing\n",
    "print(\"li[0:3] \",li[0:3])\n",
    "print(\"li[:3] \",li[:3])\n",
    "print(\"li[0:] \",li[0:])\n",
    "print(\"li[0] \",li[0])\n",
    "print(\"li[-1:] \",li[-1:])\n",
    "print(\"li[:-1] \",li[:-1])\n",
    "print(\"li[-1:4] \",li[-1:4])\n",
    "print(\"li[-1:-4] \",li[-1:-4])\n",
    "print(\"li[-6:-4] \",li[-6:-4])"
   ]
  },
  {
   "cell_type": "code",
   "execution_count": 5,
   "metadata": {},
   "outputs": [
    {
     "name": "stdout",
     "output_type": "stream",
     "text": [
      "[1, 'hello', 'world', 4, 5, 6, 7, 8, 9, 10]\n"
     ]
    }
   ],
   "source": [
    "#2.List manipulation\n",
    "#Adding elements to a specific position\n",
    "li[1:3] = ['hello','world']\n",
    "print(li)"
   ]
  },
  {
   "cell_type": "code",
   "execution_count": 6,
   "metadata": {},
   "outputs": [
    {
     "name": "stdout",
     "output_type": "stream",
     "text": [
      "[1, 'hello', 'world', 4, 5, 6, 7, 8, 9, 10, 13]\n"
     ]
    }
   ],
   "source": [
    "#Adding elements at the end of the list\n",
    "li = li + [13]\n",
    "print(li)"
   ]
  },
  {
   "cell_type": "code",
   "execution_count": 7,
   "metadata": {},
   "outputs": [
    {
     "name": "stdout",
     "output_type": "stream",
     "text": [
      "['first', 1, 'hello', 'world', 4, 5, 6, 7, 8, 9, 10, 13, 'last']\n"
     ]
    }
   ],
   "source": [
    "#Adding elements at the begining and at the end of a list\n",
    "li = [\"first\"] + li\n",
    "li = li + [\"last\"]\n",
    "print(li)"
   ]
  },
  {
   "cell_type": "code",
   "execution_count": 8,
   "metadata": {},
   "outputs": [
    {
     "name": "stdout",
     "output_type": "stream",
     "text": [
      "['first', 1, 'hello', 'world', 6, 7, 8, 9, 10, 13, 'last']\n"
     ]
    }
   ],
   "source": [
    "#Removing a specific element from the list\n",
    "del(li[4:6])\n",
    "print(li)"
   ]
  },
  {
   "cell_type": "code",
   "execution_count": 9,
   "metadata": {},
   "outputs": [
    {
     "name": "stdout",
     "output_type": "stream",
     "text": [
      "x  [1, 3, 5, 6, 3, 6, 3, 6]\n",
      "y  [1, 3, 5, 6, 3, 6, 3, 6]\n",
      "x  []\n",
      "y  []\n"
     ]
    }
   ],
   "source": [
    "#Discussing a problem\n",
    "x = [1,3,5,6,3,6,3,6]\n",
    "y = x\n",
    "print(\"x \",x)\n",
    "print(\"y \",y)\n",
    "del(y[0:])\n",
    "print(\"x \",x)\n",
    "print(\"y \",y)"
   ]
  },
  {
   "cell_type": "code",
   "execution_count": 10,
   "metadata": {},
   "outputs": [
    {
     "name": "stdout",
     "output_type": "stream",
     "text": [
      "x  [1, 3, 5, 6, 3, 6, 3, 6]\n",
      "y  [1, 3, 5, 6, 3, 6, 3, 6]\n",
      "x  [1, 3, 5, 6, 3, 6, 3, 6]\n",
      "y  []\n"
     ]
    }
   ],
   "source": [
    "#Solving the problem\n",
    "x = [1,3,5,6,3,6,3,6]\n",
    "y = x[:]\n",
    "print(\"x \",x)\n",
    "print(\"y \",y)\n",
    "del(y[0:])\n",
    "print(\"x \",x)\n",
    "print(\"y \",y)"
   ]
  },
  {
   "cell_type": "code",
   "execution_count": 11,
   "metadata": {},
   "outputs": [
    {
     "name": "stdout",
     "output_type": "stream",
     "text": [
      "x  [1, 3, 5, 6, 3, 6, 3, 6]\n",
      "y  [1, 3, 5, 6, 3, 6, 3, 6]\n",
      "x  [1, 3, 5, 6, 3, 6, 3, 6]\n",
      "y  []\n"
     ]
    }
   ],
   "source": [
    "#Solving the problem\n",
    "x = [1,3,5,6,3,6,3,6]\n",
    "y = x.copy()\n",
    "print(\"x \",x)\n",
    "print(\"y \",y)\n",
    "del(y[0:])\n",
    "print(\"x \",x)\n",
    "print(\"y \",y)"
   ]
  },
  {
   "cell_type": "code",
   "execution_count": 12,
   "metadata": {},
   "outputs": [
    {
     "name": "stdout",
     "output_type": "stream",
     "text": [
      "x  [1, 3, 5, 6, 3, 6, 3, 6]\n",
      "y  [1, 3, 5, 6, 3, 6, 3, 6]\n",
      "x  [1, 3, 5, 6, 3, 6, 3, 6]\n",
      "y  []\n"
     ]
    }
   ],
   "source": [
    "#Solving the problem\n",
    "x = [1,3,5,6,3,6,3,6]\n",
    "y = list(x)\n",
    "print(\"x \",x)\n",
    "print(\"y \",y)\n",
    "del(y[0:])\n",
    "print(\"x \",x)\n",
    "print(\"y \",y)"
   ]
  },
  {
   "cell_type": "code",
   "execution_count": 13,
   "metadata": {},
   "outputs": [
    {
     "name": "stdout",
     "output_type": "stream",
     "text": [
      "The list is  [1, 2, 35, 6, 7, 4, 5, 3, 4, 4, 3, 6, 3]\n",
      "index  5\n",
      "count  3\n",
      "sort  [1, 2, 3, 3, 3, 4, 4, 4, 5, 6, 6, 7, 35]\n",
      "reverse  [35, 7, 6, 6, 5, 4, 4, 4, 3, 3, 3, 2, 1]\n",
      "append  [35, 7, 6, 6, 5, 4, 4, 4, 3, 3, 3, 2, 1, [1, 2, 4]]\n",
      "extend  [35, 7, 6, 6, 5, 4, 4, 4, 3, 3, 3, 2, 1, [1, 2, 4], 1, 2, 3, 5, 6]\n",
      "-----------------------------\n",
      "The list is  [1, 2, 35, 6, 7, 4, 5, 3, 4, 4, 3, 6, 3]\n",
      "len  13\n",
      "max  35\n",
      "min  1\n"
     ]
    }
   ],
   "source": [
    "#Basic list's functions\n",
    "li = [1,2,35,6,7,4,5,3,4,4,3,6,3]\n",
    "print(\"The list is \",li)\n",
    "print(\"index \",li.index(4))\n",
    "print(\"count \",li.count(4))\n",
    "li.sort()\n",
    "print(\"sort \",li)\n",
    "li.reverse()\n",
    "print(\"reverse \",li)\n",
    "li.append([1,2,4])\n",
    "print(\"append \",li)\n",
    "li.extend([1,2,3,5,6])\n",
    "print(\"extend \",li)\n",
    "print(\"-----------------------------\")\n",
    "\n",
    "#Other functions\n",
    "li = [1,2,35,6,7,4,5,3,4,4,3,6,3]\n",
    "print(\"The list is \",li)\n",
    "print(\"len \",len(li))\n",
    "print(\"max \",max(li))\n",
    "print(\"min \",min(li))"
   ]
  },
  {
   "cell_type": "code",
   "execution_count": 14,
   "metadata": {},
   "outputs": [],
   "source": [
    "#Numpy (Numerical Python)\n",
    "import numpy as np"
   ]
  },
  {
   "cell_type": "code",
   "execution_count": 15,
   "metadata": {},
   "outputs": [
    {
     "name": "stdout",
     "output_type": "stream",
     "text": [
      "[1 3 5 7 9]\n",
      "Type :  <class 'numpy.ndarray'>\n"
     ]
    }
   ],
   "source": [
    "#1D Numpy arrays\n",
    "list1 = list(range(1,11,2))\n",
    "numpy_arr = np.array(list1)\n",
    "print(numpy_arr)\n",
    "print(\"Type : \",type(numpy_arr))"
   ]
  },
  {
   "cell_type": "code",
   "execution_count": 16,
   "metadata": {},
   "outputs": [
    {
     "name": "stdout",
     "output_type": "stream",
     "text": [
      "[7 9]\n",
      "Type  <class 'numpy.ndarray'>\n",
      "Number of rows and columns :  (5,)\n"
     ]
    }
   ],
   "source": [
    "#Select all the values in the array that are more than five\n",
    "temp = numpy_arr[numpy_arr > 5]\n",
    "print(temp)\n",
    "print(\"Type \",type(temp))\n",
    "print(\"Number of rows and columns : \",numpy_arr.shape)"
   ]
  },
  {
   "cell_type": "code",
   "execution_count": 17,
   "metadata": {},
   "outputs": [
    {
     "name": "stdout",
     "output_type": "stream",
     "text": [
      "[[ 6  9 11  1]\n",
      " [ 3 17  3 16]\n",
      " [ 1  1 15  1]\n",
      " [17 10  2  4]\n",
      " [ 4  3  5 20]]\n",
      "Type :  <class 'numpy.ndarray'>\n",
      "Number of rows and columns :  (5, 4)\n"
     ]
    }
   ],
   "source": [
    "#2D Numpy arrays\n",
    "list1 = [[np.random.choice(range(1,21)) for column in range(4)] for row in range(5)]\n",
    "numpy_arr = np.array(list1)\n",
    "print(numpy_arr)\n",
    "print(\"Type : \",type(numpy_arr))\n",
    "print(\"Number of rows and columns : \",numpy_arr.shape)"
   ]
  },
  {
   "cell_type": "code",
   "execution_count": 18,
   "metadata": {},
   "outputs": [
    {
     "name": "stdout",
     "output_type": "stream",
     "text": [
      "arr[0][0] = 6\n",
      "arr[0][1] = 9\n",
      "arr[0][2] = 11\n",
      "arr[0][3] = 1\n",
      "arr[1][0] = 3\n",
      "arr[1][1] = 17\n",
      "arr[1][2] = 3\n",
      "arr[1][3] = 16\n",
      "arr[2][0] = 1\n",
      "arr[2][1] = 1\n",
      "arr[2][2] = 15\n",
      "arr[2][3] = 1\n",
      "arr[3][0] = 17\n",
      "arr[3][1] = 10\n",
      "arr[3][2] = 2\n",
      "arr[3][3] = 4\n",
      "arr[4][0] = 4\n",
      "arr[4][1] = 3\n",
      "arr[4][2] = 5\n",
      "arr[4][3] = 20\n"
     ]
    }
   ],
   "source": [
    "for row in range(numpy_arr.shape[0]) :\n",
    "    for column in range(numpy_arr.shape[1]) :\n",
    "        print(\"arr[{}][{}] = {}\".format(row,column,numpy_arr[row][column]))"
   ]
  },
  {
   "cell_type": "code",
   "execution_count": 19,
   "metadata": {},
   "outputs": [
    {
     "name": "stdout",
     "output_type": "stream",
     "text": [
      "mean  7.45\n",
      "max  20\n",
      "min  1\n",
      "std  6.240793218814416\n",
      "sum  149\n",
      "sort  [[ 1  6  9 11]\n",
      " [ 3  3 16 17]\n",
      " [ 1  1  1 15]\n",
      " [ 2  4 10 17]\n",
      " [ 3  4  5 20]]\n"
     ]
    }
   ],
   "source": [
    "#Basic Numpy functions\n",
    "print(\"mean \",numpy_arr.mean())\n",
    "print(\"max \",numpy_arr.max())\n",
    "print(\"min \",numpy_arr.min())\n",
    "print(\"std \",numpy_arr.std())\n",
    "print(\"sum \",numpy_arr.sum())\n",
    "numpy_arr.sort()\n",
    "print(\"sort \",numpy_arr)"
   ]
  },
  {
   "cell_type": "code",
   "execution_count": 20,
   "metadata": {},
   "outputs": [
    {
     "name": "stdout",
     "output_type": "stream",
     "text": [
      "mean  1.7490117405401642\n",
      "max  2.080770256975706\n",
      "min  1.3030550405599273\n",
      "std  0.16358935533376423\n",
      "sum  87.45058702700821\n"
     ]
    }
   ],
   "source": [
    "#Get a Numpy array that represents a dataset with 50 values that follows the normal distribution with mean of 1.75 and \n",
    "#a standard deviation of 0.2  .\n",
    "data = np.random.normal(1.75,0.2,50)\n",
    "print(\"mean \",data.mean())\n",
    "print(\"max \",data.max())\n",
    "print(\"min \",data.min())\n",
    "print(\"std \",data.std())\n",
    "print(\"sum \",data.sum())"
   ]
  },
  {
   "cell_type": "markdown",
   "metadata": {},
   "source": [
    "# Intermediate Python"
   ]
  },
  {
   "cell_type": "markdown",
   "metadata": {},
   "source": [
    "#### Data Visualization"
   ]
  },
  {
   "cell_type": "markdown",
   "metadata": {},
   "source": [
    "###### Line Plot"
   ]
  },
  {
   "cell_type": "code",
   "execution_count": 21,
   "metadata": {},
   "outputs": [],
   "source": [
    "#Used with datasets related to time.\n",
    "import matplotlib.pyplot as plt\n",
    "%matplotlib inline"
   ]
  },
  {
   "cell_type": "code",
   "execution_count": 22,
   "metadata": {},
   "outputs": [
    {
     "data": {
      "image/png": "[encoded data removed]",
      "text/plain": [
       "<Figure size 1440x576 with 1 Axes>"
      ]
     },
     "metadata": {
      "needs_background": "light"
     },
     "output_type": "display_data"
    }
   ],
   "source": [
    "x = np.arange(1,101,1)\n",
    "y = np.log(x)\n",
    "plt.figure(figsize = (20,8))\n",
    "plt.title(\"Line Plot\",fontsize = 20)\n",
    "plt.plot(x,y,label = \"y = log(x)\")\n",
    "plt.legend(fontsize = 20)\n",
    "plt.yscale(\"log\")\n",
    "plt.xlabel(\"x\",fontsize = 20)\n",
    "plt.ylabel(\"log(x)\",fontsize = 20)\n",
    "plt.show()"
   ]
  },
  {
   "cell_type": "markdown",
   "metadata": {},
   "source": [
    "###### Scatter Plot"
   ]
  },
  {
   "cell_type": "code",
   "execution_count": 23,
   "metadata": {},
   "outputs": [
    {
     "data": {
      "image/png": "[encoded data removed]",
      "text/plain": [
       "<Figure size 1440x576 with 1 Axes>"
      ]
     },
     "metadata": {
      "needs_background": "light"
     },
     "output_type": "display_data"
    }
   ],
   "source": [
    "#Used to show the distribution of data\n",
    "x = np.arange(1,101,1)\n",
    "y = np.log(x) + np.random.rand(len(x)) * 1000\n",
    "plt.figure(figsize = (20,8))\n",
    "plt.title(\"Scatter Plot\",fontsize = 20)\n",
    "plt.scatter(x,y,label = \"data points\",color = \"red\")\n",
    "plt.legend(fontsize = 20)\n",
    "plt.yscale(\"log\")\n",
    "plt.xlabel(\"Data Point Id\",fontsize = 20)\n",
    "plt.ylabel(\"Distribution\",fontsize = 20)\n",
    "plt.show()"
   ]
  },
  {
   "cell_type": "markdown",
   "metadata": {},
   "source": [
    "###### Histograms"
   ]
  },
  {
   "cell_type": "code",
   "execution_count": 24,
   "metadata": {},
   "outputs": [
    {
     "data": {
      "image/png": "[encoded data removed]",
      "text/plain": [
       "<Figure size 1440x576 with 1 Axes>"
      ]
     },
     "metadata": {
      "needs_background": "light"
     },
     "output_type": "display_data"
    }
   ],
   "source": [
    "#Used to show the distribution of data\n",
    "x = np.array([np.random.randint(1,100) for counter in range(1,1001)])\n",
    "plt.figure(figsize = (20,8))\n",
    "plt.title(\"Histogram\",fontsize = 20)\n",
    "plt.hist(x,label = \"data points\",color = \"blue\",bins = [1,10,20,30,40,50,60,70,80,90,101])\n",
    "plt.legend(fontsize = 20)\n",
    "plt.xlabel(\"Data Point's x value\",fontsize = 20)\n",
    "plt.ylabel(\"Count\",fontsize = 20)\n",
    "plt.xticks([1,10,20,30,40,50,60,70,80,90,101],[1,10,20,30,40,50,60,70,80,90,100])\n",
    "plt.xlim(1,101)\n",
    "plt.grid(True)\n",
    "plt.legend(\"\")\n",
    "plt.text(2,20,\"Approximatly {}% of the values is greater tha 25\".format(len(x[x>25])/10),fontsize = 20,color = 'red')\n",
    "plt.show()"
   ]
  },
  {
   "cell_type": "markdown",
   "metadata": {},
   "source": [
    "#### Dictionaries"
   ]
  },
  {
   "cell_type": "code",
   "execution_count": 25,
   "metadata": {},
   "outputs": [],
   "source": [
    "keys = [\"CARS\",\"FRUITS\",\"COLORS\",\"AGE\"]\n",
    "cars = [\"BMW\",\"MAZDA\",\"TOYOTA\",\"MERCEDES\"]\n",
    "fruits = [\"APPLE\",\"BANANA\",\"ORANGE\"]\n",
    "colors = [\"GREEN\",\"BLACK\",\"WHITE\",\"ORANGE\",\"RED\",\"BLUE\",\"GRAY\",\"YELLOW\"]\n",
    "age = list(range(18,41))"
   ]
  },
  {
   "cell_type": "code",
   "execution_count": 26,
   "metadata": {},
   "outputs": [],
   "source": [
    "dic = dict()\n",
    "number_of_samples = 50\n",
    "\n",
    "for key in keys :\n",
    "    dic[key] = list()\n",
    "\n",
    "for counter in range(number_of_samples) :\n",
    "    dic[\"CARS\"].append(np.random.choice(cars))\n",
    "    dic[\"FRUITS\"].append(np.random.choice(fruits))\n",
    "    dic[\"COLORS\"].append(np.random.choice(colors))\n",
    "    dic[\"AGE\"].append(np.random.choice(age))"
   ]
  },
  {
   "cell_type": "code",
   "execution_count": 27,
   "metadata": {},
   "outputs": [
    {
     "name": "stdout",
     "output_type": "stream",
     "text": [
      "CARS\n",
      "FRUITS\n",
      "COLORS\n",
      "AGE\n"
     ]
    }
   ],
   "source": [
    "#Keys must be immutable(numbers , strings and tuples)\n",
    "for key in dic.keys() :\n",
    "    print(key)"
   ]
  },
  {
   "cell_type": "code",
   "execution_count": 28,
   "metadata": {},
   "outputs": [
    {
     "name": "stdout",
     "output_type": "stream",
     "text": [
      "<class 'dict_keys'>\n"
     ]
    }
   ],
   "source": [
    "print(type(dic.keys()))"
   ]
  },
  {
   "cell_type": "code",
   "execution_count": 29,
   "metadata": {},
   "outputs": [
    {
     "name": "stdout",
     "output_type": "stream",
     "text": [
      "CARS\n",
      "FRUITS\n",
      "COLORS\n",
      "AGE\n"
     ]
    }
   ],
   "source": [
    "for key in dic :\n",
    "    print(key)"
   ]
  },
  {
   "cell_type": "code",
   "execution_count": 30,
   "metadata": {},
   "outputs": [
    {
     "name": "stdout",
     "output_type": "stream",
     "text": [
      "['MERCEDES', 'MERCEDES', 'MAZDA', 'TOYOTA', 'MERCEDES', 'BMW', 'BMW', 'BMW', 'MERCEDES', 'MERCEDES', 'BMW', 'TOYOTA', 'MAZDA', 'BMW', 'MAZDA', 'TOYOTA', 'MAZDA', 'TOYOTA', 'TOYOTA', 'TOYOTA', 'BMW', 'MERCEDES', 'TOYOTA', 'BMW', 'MERCEDES', 'BMW', 'MERCEDES', 'BMW', 'MAZDA', 'BMW', 'MERCEDES', 'TOYOTA', 'MAZDA', 'MAZDA', 'TOYOTA', 'TOYOTA', 'TOYOTA', 'BMW', 'MAZDA', 'TOYOTA', 'BMW', 'MAZDA', 'BMW', 'BMW', 'TOYOTA', 'TOYOTA', 'MAZDA', 'TOYOTA', 'MERCEDES', 'MAZDA']\n",
      "['APPLE', 'ORANGE', 'BANANA', 'BANANA', 'ORANGE', 'BANANA', 'BANANA', 'ORANGE', 'ORANGE', 'APPLE', 'BANANA', 'ORANGE', 'BANANA', 'APPLE', 'ORANGE', 'BANANA', 'BANANA', 'BANANA', 'APPLE', 'ORANGE', 'BANANA', 'BANANA', 'BANANA', 'ORANGE', 'APPLE', 'APPLE', 'BANANA', 'APPLE', 'BANANA', 'APPLE', 'APPLE', 'ORANGE', 'ORANGE', 'BANANA', 'ORANGE', 'ORANGE', 'ORANGE', 'ORANGE', 'APPLE', 'ORANGE', 'ORANGE', 'BANANA', 'BANANA', 'ORANGE', 'APPLE', 'BANANA', 'ORANGE', 'ORANGE', 'BANANA', 'BANANA']\n",
      "['BLUE', 'BLACK', 'YELLOW', 'RED', 'RED', 'WHITE', 'BLACK', 'RED', 'WHITE', 'YELLOW', 'GRAY', 'RED', 'BLACK', 'GREEN', 'ORANGE', 'GREEN', 'RED', 'GREEN', 'BLUE', 'RED', 'WHITE', 'ORANGE', 'RED', 'WHITE', 'WHITE', 'YELLOW', 'BLUE', 'WHITE', 'GREEN', 'RED', 'WHITE', 'RED', 'WHITE', 'ORANGE', 'WHITE', 'YELLOW', 'GREEN', 'GREEN', 'WHITE', 'GREEN', 'RED', 'RED', 'GREEN', 'GRAY', 'GREEN', 'YELLOW', 'BLACK', 'YELLOW', 'GRAY', 'WHITE']\n",
      "[29, 34, 18, 33, 20, 29, 34, 38, 29, 34, 21, 21, 28, 18, 40, 27, 20, 22, 25, 31, 39, 27, 23, 38, 22, 25, 36, 39, 33, 30, 25, 31, 34, 31, 40, 37, 33, 25, 26, 33, 18, 22, 23, 18, 35, 40, 23, 35, 33, 19]\n"
     ]
    }
   ],
   "source": [
    "for key in dic.values() :\n",
    "    print(key)"
   ]
  },
  {
   "cell_type": "code",
   "execution_count": 31,
   "metadata": {},
   "outputs": [],
   "source": [
    "del(dic[\"CARS\"])"
   ]
  },
  {
   "cell_type": "code",
   "execution_count": 32,
   "metadata": {},
   "outputs": [
    {
     "data": {
      "text/plain": [
       "dict_keys(['FRUITS', 'COLORS', 'AGE'])"
      ]
     },
     "execution_count": 32,
     "metadata": {},
     "output_type": "execute_result"
    }
   ],
   "source": [
    "dic.keys()"
   ]
  },
  {
   "cell_type": "code",
   "execution_count": 33,
   "metadata": {},
   "outputs": [],
   "source": [
    "dic[\"AGE\"] = []"
   ]
  },
  {
   "cell_type": "code",
   "execution_count": 34,
   "metadata": {},
   "outputs": [
    {
     "data": {
      "text/plain": [
       "{'FRUITS': ['APPLE',\n",
       "  'ORANGE',\n",
       "  'BANANA',\n",
       "  'BANANA',\n",
       "  'ORANGE',\n",
       "  'BANANA',\n",
       "  'BANANA',\n",
       "  'ORANGE',\n",
       "  'ORANGE',\n",
       "  'APPLE',\n",
       "  'BANANA',\n",
       "  'ORANGE',\n",
       "  'BANANA',\n",
       "  'APPLE',\n",
       "  'ORANGE',\n",
       "  'BANANA',\n",
       "  'BANANA',\n",
       "  'BANANA',\n",
       "  'APPLE',\n",
       "  'ORANGE',\n",
       "  'BANANA',\n",
       "  'BANANA',\n",
       "  'BANANA',\n",
       "  'ORANGE',\n",
       "  'APPLE',\n",
       "  'APPLE',\n",
       "  'BANANA',\n",
       "  'APPLE',\n",
       "  'BANANA',\n",
       "  'APPLE',\n",
       "  'APPLE',\n",
       "  'ORANGE',\n",
       "  'ORANGE',\n",
       "  'BANANA',\n",
       "  'ORANGE',\n",
       "  'ORANGE',\n",
       "  'ORANGE',\n",
       "  'ORANGE',\n",
       "  'APPLE',\n",
       "  'ORANGE',\n",
       "  'ORANGE',\n",
       "  'BANANA',\n",
       "  'BANANA',\n",
       "  'ORANGE',\n",
       "  'APPLE',\n",
       "  'BANANA',\n",
       "  'ORANGE',\n",
       "  'ORANGE',\n",
       "  'BANANA',\n",
       "  'BANANA'],\n",
       " 'COLORS': ['BLUE',\n",
       "  'BLACK',\n",
       "  'YELLOW',\n",
       "  'RED',\n",
       "  'RED',\n",
       "  'WHITE',\n",
       "  'BLACK',\n",
       "  'RED',\n",
       "  'WHITE',\n",
       "  'YELLOW',\n",
       "  'GRAY',\n",
       "  'RED',\n",
       "  'BLACK',\n",
       "  'GREEN',\n",
       "  'ORANGE',\n",
       "  'GREEN',\n",
       "  'RED',\n",
       "  'GREEN',\n",
       "  'BLUE',\n",
       "  'RED',\n",
       "  'WHITE',\n",
       "  'ORANGE',\n",
       "  'RED',\n",
       "  'WHITE',\n",
       "  'WHITE',\n",
       "  'YELLOW',\n",
       "  'BLUE',\n",
       "  'WHITE',\n",
       "  'GREEN',\n",
       "  'RED',\n",
       "  'WHITE',\n",
       "  'RED',\n",
       "  'WHITE',\n",
       "  'ORANGE',\n",
       "  'WHITE',\n",
       "  'YELLOW',\n",
       "  'GREEN',\n",
       "  'GREEN',\n",
       "  'WHITE',\n",
       "  'GREEN',\n",
       "  'RED',\n",
       "  'RED',\n",
       "  'GREEN',\n",
       "  'GRAY',\n",
       "  'GREEN',\n",
       "  'YELLOW',\n",
       "  'BLACK',\n",
       "  'YELLOW',\n",
       "  'GRAY',\n",
       "  'WHITE'],\n",
       " 'AGE': []}"
      ]
     },
     "execution_count": 34,
     "metadata": {},
     "output_type": "execute_result"
    }
   ],
   "source": [
    "dic"
   ]
  },
  {
   "cell_type": "code",
   "execution_count": 35,
   "metadata": {},
   "outputs": [],
   "source": [
    "#Comparison between lists and dictionaries\n",
    "dic = {}\n",
    "dic[\"criteria\"] = []\n",
    "dic['list'] = []\n",
    "dic['dictionary'] = []\n",
    "dic[\"criteria\"].extend([\"Manipulation\",\"Indexing\",\"Ordering\"])\n",
    "dic[\"list\"].extend([\"By subsetting\",\"By numeric indecies\",\"The order is taken into account\"])\n",
    "dic[\"dictionary\"].extend([\"By subsetting\",\"By key indecies\",\"The order isn\\'t' taken into account\"])"
   ]
  },
  {
   "cell_type": "code",
   "execution_count": 36,
   "metadata": {},
   "outputs": [
    {
     "data": {
      "text/plain": [
       "{'criteria': ['Manipulation', 'Indexing', 'Ordering'],\n",
       " 'list': ['By subsetting',\n",
       "  'By numeric indecies',\n",
       "  'The order is taken into account'],\n",
       " 'dictionary': ['By subsetting',\n",
       "  'By key indecies',\n",
       "  \"The order isn't' taken into account\"]}"
      ]
     },
     "execution_count": 36,
     "metadata": {},
     "output_type": "execute_result"
    }
   ],
   "source": [
    "dic"
   ]
  },
  {
   "cell_type": "markdown",
   "metadata": {},
   "source": [
    "#### Pandas"
   ]
  },
  {
   "cell_type": "code",
   "execution_count": 37,
   "metadata": {},
   "outputs": [],
   "source": [
    "#Importing it\n",
    "import pandas as pd"
   ]
  },
  {
   "cell_type": "code",
   "execution_count": 38,
   "metadata": {},
   "outputs": [
    {
     "data": {
      "text/html": [
       "<div>\n",
       "<style scoped>\n",
       "    .dataframe tbody tr th:only-of-type {\n",
       "        vertical-align: middle;\n",
       "    }\n",
       "\n",
       "    .dataframe tbody tr th {\n",
       "        vertical-align: top;\n",
       "    }\n",
       "\n",
       "    .dataframe thead th {\n",
       "        text-align: right;\n",
       "    }\n",
       "</style>\n",
       "<table border=\"1\" class=\"dataframe\">\n",
       "  <thead>\n",
       "    <tr style=\"text-align: right;\">\n",
       "      <th></th>\n",
       "      <th>criteria</th>\n",
       "      <th>list</th>\n",
       "      <th>dictionary</th>\n",
       "    </tr>\n",
       "  </thead>\n",
       "  <tbody>\n",
       "    <tr>\n",
       "      <th>0</th>\n",
       "      <td>Manipulation</td>\n",
       "      <td>By subsetting</td>\n",
       "      <td>By subsetting</td>\n",
       "    </tr>\n",
       "    <tr>\n",
       "      <th>1</th>\n",
       "      <td>Indexing</td>\n",
       "      <td>By numeric indecies</td>\n",
       "      <td>By key indecies</td>\n",
       "    </tr>\n",
       "    <tr>\n",
       "      <th>2</th>\n",
       "      <td>Ordering</td>\n",
       "      <td>The order is taken into account</td>\n",
       "      <td>The order isn't' taken into account</td>\n",
       "    </tr>\n",
       "  </tbody>\n",
       "</table>\n",
       "</div>"
      ],
      "text/plain": [
       "       criteria                             list  \\\n",
       "0  Manipulation                    By subsetting   \n",
       "1      Indexing              By numeric indecies   \n",
       "2      Ordering  The order is taken into account   \n",
       "\n",
       "                            dictionary  \n",
       "0                        By subsetting  \n",
       "1                      By key indecies  \n",
       "2  The order isn't' taken into account  "
      ]
     },
     "execution_count": 38,
     "metadata": {},
     "output_type": "execute_result"
    }
   ],
   "source": [
    "#Builing a pandas' dataframe from a dictionary\n",
    "df1 = pd.DataFrame(dic)\n",
    "df1.head()"
   ]
  },
  {
   "cell_type": "code",
   "execution_count": 39,
   "metadata": {},
   "outputs": [
    {
     "data": {
      "text/html": [
       "<div>\n",
       "<style scoped>\n",
       "    .dataframe tbody tr th:only-of-type {\n",
       "        vertical-align: middle;\n",
       "    }\n",
       "\n",
       "    .dataframe tbody tr th {\n",
       "        vertical-align: top;\n",
       "    }\n",
       "\n",
       "    .dataframe thead th {\n",
       "        text-align: right;\n",
       "    }\n",
       "</style>\n",
       "<table border=\"1\" class=\"dataframe\">\n",
       "  <thead>\n",
       "    <tr style=\"text-align: right;\">\n",
       "      <th></th>\n",
       "      <th>list</th>\n",
       "      <th>dictionary</th>\n",
       "    </tr>\n",
       "    <tr>\n",
       "      <th>criteria</th>\n",
       "      <th></th>\n",
       "      <th></th>\n",
       "    </tr>\n",
       "  </thead>\n",
       "  <tbody>\n",
       "    <tr>\n",
       "      <th>Manipulation</th>\n",
       "      <td>By subsetting</td>\n",
       "      <td>By subsetting</td>\n",
       "    </tr>\n",
       "    <tr>\n",
       "      <th>Indexing</th>\n",
       "      <td>By numeric indecies</td>\n",
       "      <td>By key indecies</td>\n",
       "    </tr>\n",
       "    <tr>\n",
       "      <th>Ordering</th>\n",
       "      <td>The order is taken into account</td>\n",
       "      <td>The order isn't' taken into account</td>\n",
       "    </tr>\n",
       "  </tbody>\n",
       "</table>\n",
       "</div>"
      ],
      "text/plain": [
       "                                         list  \\\n",
       "criteria                                        \n",
       "Manipulation                    By subsetting   \n",
       "Indexing                  By numeric indecies   \n",
       "Ordering      The order is taken into account   \n",
       "\n",
       "                                       dictionary  \n",
       "criteria                                           \n",
       "Manipulation                        By subsetting  \n",
       "Indexing                          By key indecies  \n",
       "Ordering      The order isn't' taken into account  "
      ]
     },
     "execution_count": 39,
     "metadata": {},
     "output_type": "execute_result"
    }
   ],
   "source": [
    "#Setting the Criteria column as index\n",
    "df1.set_index(\"criteria\")"
   ]
  },
  {
   "cell_type": "code",
   "execution_count": 40,
   "metadata": {},
   "outputs": [],
   "source": [
    "#Builing a pandas' dataframe from a csv file\n",
    "import os\n",
    "keys = [\"CARS\",\"FRUITS\",\"COLORS\",\"AGE\"]\n",
    "cars = [\"BMW\",\"MAZDA\",\"TOYOTA\",\"MERCEDES\"]\n",
    "fruits = [\"APPLE\",\"BANANA\",\"ORANGE\"]\n",
    "colors = [\"GREEN\",\"BLACK\",\"WHITE\",\"ORANGE\",\"RED\",\"BLUE\",\"GRAY\",\"YELLOW\"]\n",
    "ages = list(range(18,41))\n",
    "write_path = os.path.join(os.getcwd(),\"Files/dictionary_file1.csv\")\n",
    "with open(write_path,\"w\") as file :\n",
    "    for counter in range(50) :\n",
    "        car = np.random.choice(cars)\n",
    "        fruit = np.random.choice(fruits)\n",
    "        color = np.random.choice(colors)\n",
    "        age = np.random.choice(ages)\n",
    "        line = str(\"\"+str(car)+\",\"+str(fruit)+\",\"+str(color)+\",\"+str(age)+\"\\n\")\n",
    "        file.write(line)"
   ]
  },
  {
   "cell_type": "code",
   "execution_count": 41,
   "metadata": {},
   "outputs": [
    {
     "data": {
      "text/html": [
       "<div>\n",
       "<style scoped>\n",
       "    .dataframe tbody tr th:only-of-type {\n",
       "        vertical-align: middle;\n",
       "    }\n",
       "\n",
       "    .dataframe tbody tr th {\n",
       "        vertical-align: top;\n",
       "    }\n",
       "\n",
       "    .dataframe thead th {\n",
       "        text-align: right;\n",
       "    }\n",
       "</style>\n",
       "<table border=\"1\" class=\"dataframe\">\n",
       "  <thead>\n",
       "    <tr style=\"text-align: right;\">\n",
       "      <th></th>\n",
       "      <th>MAZDA</th>\n",
       "      <th>APPLE</th>\n",
       "      <th>WHITE</th>\n",
       "      <th>22</th>\n",
       "    </tr>\n",
       "  </thead>\n",
       "  <tbody>\n",
       "    <tr>\n",
       "      <th>0</th>\n",
       "      <td>MAZDA</td>\n",
       "      <td>ORANGE</td>\n",
       "      <td>GREEN</td>\n",
       "      <td>32</td>\n",
       "    </tr>\n",
       "    <tr>\n",
       "      <th>1</th>\n",
       "      <td>BMW</td>\n",
       "      <td>APPLE</td>\n",
       "      <td>BLACK</td>\n",
       "      <td>30</td>\n",
       "    </tr>\n",
       "    <tr>\n",
       "      <th>2</th>\n",
       "      <td>MAZDA</td>\n",
       "      <td>APPLE</td>\n",
       "      <td>WHITE</td>\n",
       "      <td>34</td>\n",
       "    </tr>\n",
       "    <tr>\n",
       "      <th>3</th>\n",
       "      <td>BMW</td>\n",
       "      <td>BANANA</td>\n",
       "      <td>YELLOW</td>\n",
       "      <td>18</td>\n",
       "    </tr>\n",
       "    <tr>\n",
       "      <th>4</th>\n",
       "      <td>MERCEDES</td>\n",
       "      <td>APPLE</td>\n",
       "      <td>YELLOW</td>\n",
       "      <td>31</td>\n",
       "    </tr>\n",
       "  </tbody>\n",
       "</table>\n",
       "</div>"
      ],
      "text/plain": [
       "      MAZDA   APPLE   WHITE  22\n",
       "0     MAZDA  ORANGE   GREEN  32\n",
       "1       BMW   APPLE   BLACK  30\n",
       "2     MAZDA   APPLE   WHITE  34\n",
       "3       BMW  BANANA  YELLOW  18\n",
       "4  MERCEDES   APPLE  YELLOW  31"
      ]
     },
     "execution_count": 41,
     "metadata": {},
     "output_type": "execute_result"
    }
   ],
   "source": [
    "df2 = pd.read_csv(write_path)\n",
    "df2.head()"
   ]
  },
  {
   "cell_type": "code",
   "execution_count": 42,
   "metadata": {},
   "outputs": [
    {
     "data": {
      "text/html": [
       "<div>\n",
       "<style scoped>\n",
       "    .dataframe tbody tr th:only-of-type {\n",
       "        vertical-align: middle;\n",
       "    }\n",
       "\n",
       "    .dataframe tbody tr th {\n",
       "        vertical-align: top;\n",
       "    }\n",
       "\n",
       "    .dataframe thead th {\n",
       "        text-align: right;\n",
       "    }\n",
       "</style>\n",
       "<table border=\"1\" class=\"dataframe\">\n",
       "  <thead>\n",
       "    <tr style=\"text-align: right;\">\n",
       "      <th></th>\n",
       "      <th>CARS</th>\n",
       "      <th>FRUITS</th>\n",
       "      <th>COLORS</th>\n",
       "      <th>AGE</th>\n",
       "    </tr>\n",
       "  </thead>\n",
       "  <tbody>\n",
       "    <tr>\n",
       "      <th>0</th>\n",
       "      <td>MAZDA</td>\n",
       "      <td>APPLE</td>\n",
       "      <td>WHITE</td>\n",
       "      <td>22</td>\n",
       "    </tr>\n",
       "    <tr>\n",
       "      <th>1</th>\n",
       "      <td>MAZDA</td>\n",
       "      <td>ORANGE</td>\n",
       "      <td>GREEN</td>\n",
       "      <td>32</td>\n",
       "    </tr>\n",
       "    <tr>\n",
       "      <th>2</th>\n",
       "      <td>BMW</td>\n",
       "      <td>APPLE</td>\n",
       "      <td>BLACK</td>\n",
       "      <td>30</td>\n",
       "    </tr>\n",
       "    <tr>\n",
       "      <th>3</th>\n",
       "      <td>MAZDA</td>\n",
       "      <td>APPLE</td>\n",
       "      <td>WHITE</td>\n",
       "      <td>34</td>\n",
       "    </tr>\n",
       "    <tr>\n",
       "      <th>4</th>\n",
       "      <td>BMW</td>\n",
       "      <td>BANANA</td>\n",
       "      <td>YELLOW</td>\n",
       "      <td>18</td>\n",
       "    </tr>\n",
       "  </tbody>\n",
       "</table>\n",
       "</div>"
      ],
      "text/plain": [
       "    CARS  FRUITS  COLORS  AGE\n",
       "0  MAZDA   APPLE   WHITE   22\n",
       "1  MAZDA  ORANGE   GREEN   32\n",
       "2    BMW   APPLE   BLACK   30\n",
       "3  MAZDA   APPLE   WHITE   34\n",
       "4    BMW  BANANA  YELLOW   18"
      ]
     },
     "execution_count": 42,
     "metadata": {},
     "output_type": "execute_result"
    }
   ],
   "source": [
    "df2 = pd.read_csv(write_path,names = keys)\n",
    "df2.head()"
   ]
  },
  {
   "cell_type": "code",
   "execution_count": 43,
   "metadata": {},
   "outputs": [],
   "source": [
    "#Builing a pandas' dataframe from a csv file\n",
    "keys = [\"CARS\",\"FRUITS\",\"COLORS\",\"AGE\"]\n",
    "number_of_observations = 50\n",
    "cars = [\"BMW\",\"MAZDA\",\"TOYOTA\",\"MERCEDES\"]\n",
    "fruits = [\"APPLE\",\"BANANA\",\"ORANGE\"]\n",
    "colors = [\"GREEN\",\"BLACK\",\"WHITE\",\"ORANGE\",\"RED\",\"BLUE\",\"GRAY\",\"YELLOW\"]\n",
    "ages = list(range(18,41))\n",
    "with open(write_path,\"w\") as file :\n",
    "    for identifier , counter in enumerate(range(number_of_observations)) :\n",
    "        car = np.random.choice(cars)\n",
    "        fruit = np.random.choice(fruits)\n",
    "        color = np.random.choice(colors)\n",
    "        age = np.random.choice(ages)\n",
    "        line = str(\"\"+str(car)+\",id = \"+str(identifier)+\",\"+str(fruit)+\",\"+str(color)+\",\"+str(age)+\"\\n\")\n",
    "        file.write(line)"
   ]
  },
  {
   "cell_type": "code",
   "execution_count": 44,
   "metadata": {},
   "outputs": [
    {
     "data": {
      "text/html": [
       "<div>\n",
       "<style scoped>\n",
       "    .dataframe tbody tr th:only-of-type {\n",
       "        vertical-align: middle;\n",
       "    }\n",
       "\n",
       "    .dataframe tbody tr th {\n",
       "        vertical-align: top;\n",
       "    }\n",
       "\n",
       "    .dataframe thead th {\n",
       "        text-align: right;\n",
       "    }\n",
       "</style>\n",
       "<table border=\"1\" class=\"dataframe\">\n",
       "  <thead>\n",
       "    <tr style=\"text-align: right;\">\n",
       "      <th></th>\n",
       "      <th>CARS</th>\n",
       "      <th>FRUITS</th>\n",
       "      <th>COLORS</th>\n",
       "      <th>AGE</th>\n",
       "    </tr>\n",
       "  </thead>\n",
       "  <tbody>\n",
       "    <tr>\n",
       "      <th>id = 0</th>\n",
       "      <td>MAZDA</td>\n",
       "      <td>BANANA</td>\n",
       "      <td>WHITE</td>\n",
       "      <td>35</td>\n",
       "    </tr>\n",
       "    <tr>\n",
       "      <th>id = 1</th>\n",
       "      <td>TOYOTA</td>\n",
       "      <td>BANANA</td>\n",
       "      <td>YELLOW</td>\n",
       "      <td>22</td>\n",
       "    </tr>\n",
       "    <tr>\n",
       "      <th>id = 2</th>\n",
       "      <td>TOYOTA</td>\n",
       "      <td>ORANGE</td>\n",
       "      <td>RED</td>\n",
       "      <td>25</td>\n",
       "    </tr>\n",
       "    <tr>\n",
       "      <th>id = 3</th>\n",
       "      <td>TOYOTA</td>\n",
       "      <td>APPLE</td>\n",
       "      <td>GRAY</td>\n",
       "      <td>31</td>\n",
       "    </tr>\n",
       "    <tr>\n",
       "      <th>id = 4</th>\n",
       "      <td>TOYOTA</td>\n",
       "      <td>ORANGE</td>\n",
       "      <td>GREEN</td>\n",
       "      <td>36</td>\n",
       "    </tr>\n",
       "  </tbody>\n",
       "</table>\n",
       "</div>"
      ],
      "text/plain": [
       "          CARS  FRUITS  COLORS  AGE\n",
       "id = 0   MAZDA  BANANA   WHITE   35\n",
       "id = 1  TOYOTA  BANANA  YELLOW   22\n",
       "id = 2  TOYOTA  ORANGE     RED   25\n",
       "id = 3  TOYOTA   APPLE    GRAY   31\n",
       "id = 4  TOYOTA  ORANGE   GREEN   36"
      ]
     },
     "execution_count": 44,
     "metadata": {},
     "output_type": "execute_result"
    }
   ],
   "source": [
    "df3 = pd.read_csv(write_path,names = keys,index_col = 1)\n",
    "df3.head()"
   ]
  },
  {
   "cell_type": "code",
   "execution_count": 45,
   "metadata": {},
   "outputs": [
    {
     "name": "stdout",
     "output_type": "stream",
     "text": [
      "1D labeled array(We have column labels and row labels)\n"
     ]
    },
    {
     "data": {
      "text/plain": [
       "(id = 0        MAZDA\n",
       " id = 1       TOYOTA\n",
       " id = 2       TOYOTA\n",
       " id = 3       TOYOTA\n",
       " id = 4       TOYOTA\n",
       " id = 5       TOYOTA\n",
       " id = 6     MERCEDES\n",
       " id = 7        MAZDA\n",
       " id = 8          BMW\n",
       " id = 9          BMW\n",
       " id = 10    MERCEDES\n",
       " id = 11      TOYOTA\n",
       " id = 12         BMW\n",
       " id = 13    MERCEDES\n",
       " id = 14         BMW\n",
       " id = 15         BMW\n",
       " id = 16      TOYOTA\n",
       " id = 17         BMW\n",
       " id = 18       MAZDA\n",
       " id = 19      TOYOTA\n",
       " id = 20    MERCEDES\n",
       " id = 21         BMW\n",
       " id = 22    MERCEDES\n",
       " id = 23       MAZDA\n",
       " id = 24      TOYOTA\n",
       " id = 25    MERCEDES\n",
       " id = 26       MAZDA\n",
       " id = 27    MERCEDES\n",
       " id = 28    MERCEDES\n",
       " id = 29       MAZDA\n",
       " id = 30      TOYOTA\n",
       " id = 31       MAZDA\n",
       " id = 32      TOYOTA\n",
       " id = 33    MERCEDES\n",
       " id = 34      TOYOTA\n",
       " id = 35      TOYOTA\n",
       " id = 36    MERCEDES\n",
       " id = 37       MAZDA\n",
       " id = 38      TOYOTA\n",
       " id = 39         BMW\n",
       " id = 40         BMW\n",
       " id = 41      TOYOTA\n",
       " id = 42    MERCEDES\n",
       " id = 43       MAZDA\n",
       " id = 44    MERCEDES\n",
       " id = 45      TOYOTA\n",
       " id = 46       MAZDA\n",
       " id = 47       MAZDA\n",
       " id = 48         BMW\n",
       " id = 49      TOYOTA\n",
       " Name: CARS, dtype: object, pandas.core.series.Series, None)"
      ]
     },
     "execution_count": 45,
     "metadata": {},
     "output_type": "execute_result"
    }
   ],
   "source": [
    "#Select data\n",
    "#1.Column access\n",
    "df3['CARS']  , type(df3['CARS']) , print(\"1D labeled array(We have column labels and row labels)\")"
   ]
  },
  {
   "cell_type": "code",
   "execution_count": 46,
   "metadata": {},
   "outputs": [
    {
     "data": {
      "text/html": [
       "<div>\n",
       "<style scoped>\n",
       "    .dataframe tbody tr th:only-of-type {\n",
       "        vertical-align: middle;\n",
       "    }\n",
       "\n",
       "    .dataframe tbody tr th {\n",
       "        vertical-align: top;\n",
       "    }\n",
       "\n",
       "    .dataframe thead th {\n",
       "        text-align: right;\n",
       "    }\n",
       "</style>\n",
       "<table border=\"1\" class=\"dataframe\">\n",
       "  <thead>\n",
       "    <tr style=\"text-align: right;\">\n",
       "      <th></th>\n",
       "      <th>CARS</th>\n",
       "      <th>FRUITS</th>\n",
       "      <th>COLORS</th>\n",
       "      <th>AGE</th>\n",
       "    </tr>\n",
       "  </thead>\n",
       "  <tbody>\n",
       "    <tr>\n",
       "      <th>id = 33</th>\n",
       "      <td>MERCEDES</td>\n",
       "      <td>APPLE</td>\n",
       "      <td>YELLOW</td>\n",
       "      <td>39</td>\n",
       "    </tr>\n",
       "    <tr>\n",
       "      <th>id = 34</th>\n",
       "      <td>TOYOTA</td>\n",
       "      <td>ORANGE</td>\n",
       "      <td>RED</td>\n",
       "      <td>36</td>\n",
       "    </tr>\n",
       "    <tr>\n",
       "      <th>id = 35</th>\n",
       "      <td>TOYOTA</td>\n",
       "      <td>ORANGE</td>\n",
       "      <td>GRAY</td>\n",
       "      <td>35</td>\n",
       "    </tr>\n",
       "    <tr>\n",
       "      <th>id = 36</th>\n",
       "      <td>MERCEDES</td>\n",
       "      <td>APPLE</td>\n",
       "      <td>ORANGE</td>\n",
       "      <td>33</td>\n",
       "    </tr>\n",
       "  </tbody>\n",
       "</table>\n",
       "</div>"
      ],
      "text/plain": [
       "             CARS  FRUITS  COLORS  AGE\n",
       "id = 33  MERCEDES   APPLE  YELLOW   39\n",
       "id = 34    TOYOTA  ORANGE     RED   36\n",
       "id = 35    TOYOTA  ORANGE    GRAY   35\n",
       "id = 36  MERCEDES   APPLE  ORANGE   33"
      ]
     },
     "execution_count": 46,
     "metadata": {},
     "output_type": "execute_result"
    }
   ],
   "source": [
    "#2.Row access\n",
    "df3[33:37]"
   ]
  },
  {
   "cell_type": "code",
   "execution_count": 47,
   "metadata": {},
   "outputs": [
    {
     "data": {
      "text/html": [
       "<div>\n",
       "<style scoped>\n",
       "    .dataframe tbody tr th:only-of-type {\n",
       "        vertical-align: middle;\n",
       "    }\n",
       "\n",
       "    .dataframe tbody tr th {\n",
       "        vertical-align: top;\n",
       "    }\n",
       "\n",
       "    .dataframe thead th {\n",
       "        text-align: right;\n",
       "    }\n",
       "</style>\n",
       "<table border=\"1\" class=\"dataframe\">\n",
       "  <thead>\n",
       "    <tr style=\"text-align: right;\">\n",
       "      <th></th>\n",
       "      <th>CARS</th>\n",
       "      <th>AGE</th>\n",
       "    </tr>\n",
       "  </thead>\n",
       "  <tbody>\n",
       "    <tr>\n",
       "      <th>id = 33</th>\n",
       "      <td>MERCEDES</td>\n",
       "      <td>39</td>\n",
       "    </tr>\n",
       "    <tr>\n",
       "      <th>id = 44</th>\n",
       "      <td>MERCEDES</td>\n",
       "      <td>25</td>\n",
       "    </tr>\n",
       "    <tr>\n",
       "      <th>id = 23</th>\n",
       "      <td>MAZDA</td>\n",
       "      <td>29</td>\n",
       "    </tr>\n",
       "  </tbody>\n",
       "</table>\n",
       "</div>"
      ],
      "text/plain": [
       "             CARS  AGE\n",
       "id = 33  MERCEDES   39\n",
       "id = 44  MERCEDES   25\n",
       "id = 23     MAZDA   29"
      ]
     },
     "execution_count": 47,
     "metadata": {},
     "output_type": "execute_result"
    }
   ],
   "source": [
    "#3.Label based access (loc)\n",
    "df3.loc[[\"id = 33\",\"id = 44\",\"id = 23\"],[\"CARS\",\"AGE\"]]"
   ]
  },
  {
   "cell_type": "code",
   "execution_count": 48,
   "metadata": {},
   "outputs": [
    {
     "data": {
      "text/html": [
       "<div>\n",
       "<style scoped>\n",
       "    .dataframe tbody tr th:only-of-type {\n",
       "        vertical-align: middle;\n",
       "    }\n",
       "\n",
       "    .dataframe tbody tr th {\n",
       "        vertical-align: top;\n",
       "    }\n",
       "\n",
       "    .dataframe thead th {\n",
       "        text-align: right;\n",
       "    }\n",
       "</style>\n",
       "<table border=\"1\" class=\"dataframe\">\n",
       "  <thead>\n",
       "    <tr style=\"text-align: right;\">\n",
       "      <th></th>\n",
       "      <th>AGE</th>\n",
       "    </tr>\n",
       "  </thead>\n",
       "  <tbody>\n",
       "    <tr>\n",
       "      <th>id = 1</th>\n",
       "      <td>22</td>\n",
       "    </tr>\n",
       "    <tr>\n",
       "      <th>id = 7</th>\n",
       "      <td>35</td>\n",
       "    </tr>\n",
       "  </tbody>\n",
       "</table>\n",
       "</div>"
      ],
      "text/plain": [
       "        AGE\n",
       "id = 1   22\n",
       "id = 7   35"
      ]
     },
     "execution_count": 48,
     "metadata": {},
     "output_type": "execute_result"
    }
   ],
   "source": [
    "#4.Integer position based access (iloc)\n",
    "df3.iloc[[1,7]][[\"AGE\"]]"
   ]
  },
  {
   "cell_type": "code",
   "execution_count": 49,
   "metadata": {},
   "outputs": [
    {
     "data": {
      "text/html": [
       "<div>\n",
       "<style scoped>\n",
       "    .dataframe tbody tr th:only-of-type {\n",
       "        vertical-align: middle;\n",
       "    }\n",
       "\n",
       "    .dataframe tbody tr th {\n",
       "        vertical-align: top;\n",
       "    }\n",
       "\n",
       "    .dataframe thead th {\n",
       "        text-align: right;\n",
       "    }\n",
       "</style>\n",
       "<table border=\"1\" class=\"dataframe\">\n",
       "  <thead>\n",
       "    <tr style=\"text-align: right;\">\n",
       "      <th></th>\n",
       "      <th>CARS</th>\n",
       "      <th>FRUITS</th>\n",
       "      <th>COLORS</th>\n",
       "      <th>AGE</th>\n",
       "    </tr>\n",
       "  </thead>\n",
       "  <tbody>\n",
       "    <tr>\n",
       "      <th>id = 9</th>\n",
       "      <td>BMW</td>\n",
       "      <td>APPLE</td>\n",
       "      <td>WHITE</td>\n",
       "      <td>19</td>\n",
       "    </tr>\n",
       "    <tr>\n",
       "      <th>id = 48</th>\n",
       "      <td>BMW</td>\n",
       "      <td>APPLE</td>\n",
       "      <td>WHITE</td>\n",
       "      <td>37</td>\n",
       "    </tr>\n",
       "  </tbody>\n",
       "</table>\n",
       "</div>"
      ],
      "text/plain": [
       "        CARS FRUITS COLORS  AGE\n",
       "id = 9   BMW  APPLE  WHITE   19\n",
       "id = 48  BMW  APPLE  WHITE   37"
      ]
     },
     "execution_count": 49,
     "metadata": {},
     "output_type": "execute_result"
    }
   ],
   "source": [
    "#Boolean operators with numpy and pandas\n",
    "df3[np.logical_and(df3[\"CARS\"] == \"BMW\",  df3[\"FRUITS\"] == \"APPLE\")]"
   ]
  },
  {
   "cell_type": "code",
   "execution_count": 50,
   "metadata": {},
   "outputs": [
    {
     "data": {
      "text/html": [
       "<div>\n",
       "<style scoped>\n",
       "    .dataframe tbody tr th:only-of-type {\n",
       "        vertical-align: middle;\n",
       "    }\n",
       "\n",
       "    .dataframe tbody tr th {\n",
       "        vertical-align: top;\n",
       "    }\n",
       "\n",
       "    .dataframe thead th {\n",
       "        text-align: right;\n",
       "    }\n",
       "</style>\n",
       "<table border=\"1\" class=\"dataframe\">\n",
       "  <thead>\n",
       "    <tr style=\"text-align: right;\">\n",
       "      <th></th>\n",
       "      <th>CARS</th>\n",
       "      <th>FRUITS</th>\n",
       "      <th>COLORS</th>\n",
       "      <th>AGE</th>\n",
       "    </tr>\n",
       "  </thead>\n",
       "  <tbody>\n",
       "    <tr>\n",
       "      <th>id = 3</th>\n",
       "      <td>TOYOTA</td>\n",
       "      <td>APPLE</td>\n",
       "      <td>GRAY</td>\n",
       "      <td>31</td>\n",
       "    </tr>\n",
       "    <tr>\n",
       "      <th>id = 5</th>\n",
       "      <td>TOYOTA</td>\n",
       "      <td>APPLE</td>\n",
       "      <td>GREEN</td>\n",
       "      <td>40</td>\n",
       "    </tr>\n",
       "    <tr>\n",
       "      <th>id = 8</th>\n",
       "      <td>BMW</td>\n",
       "      <td>ORANGE</td>\n",
       "      <td>WHITE</td>\n",
       "      <td>37</td>\n",
       "    </tr>\n",
       "    <tr>\n",
       "      <th>id = 9</th>\n",
       "      <td>BMW</td>\n",
       "      <td>APPLE</td>\n",
       "      <td>WHITE</td>\n",
       "      <td>19</td>\n",
       "    </tr>\n",
       "    <tr>\n",
       "      <th>id = 11</th>\n",
       "      <td>TOYOTA</td>\n",
       "      <td>APPLE</td>\n",
       "      <td>BLACK</td>\n",
       "      <td>34</td>\n",
       "    </tr>\n",
       "    <tr>\n",
       "      <th>id = 12</th>\n",
       "      <td>BMW</td>\n",
       "      <td>BANANA</td>\n",
       "      <td>YELLOW</td>\n",
       "      <td>37</td>\n",
       "    </tr>\n",
       "    <tr>\n",
       "      <th>id = 14</th>\n",
       "      <td>BMW</td>\n",
       "      <td>ORANGE</td>\n",
       "      <td>ORANGE</td>\n",
       "      <td>20</td>\n",
       "    </tr>\n",
       "    <tr>\n",
       "      <th>id = 15</th>\n",
       "      <td>BMW</td>\n",
       "      <td>BANANA</td>\n",
       "      <td>RED</td>\n",
       "      <td>29</td>\n",
       "    </tr>\n",
       "    <tr>\n",
       "      <th>id = 16</th>\n",
       "      <td>TOYOTA</td>\n",
       "      <td>APPLE</td>\n",
       "      <td>WHITE</td>\n",
       "      <td>28</td>\n",
       "    </tr>\n",
       "    <tr>\n",
       "      <th>id = 17</th>\n",
       "      <td>BMW</td>\n",
       "      <td>ORANGE</td>\n",
       "      <td>GREEN</td>\n",
       "      <td>40</td>\n",
       "    </tr>\n",
       "    <tr>\n",
       "      <th>id = 19</th>\n",
       "      <td>TOYOTA</td>\n",
       "      <td>APPLE</td>\n",
       "      <td>GRAY</td>\n",
       "      <td>18</td>\n",
       "    </tr>\n",
       "    <tr>\n",
       "      <th>id = 21</th>\n",
       "      <td>BMW</td>\n",
       "      <td>ORANGE</td>\n",
       "      <td>RED</td>\n",
       "      <td>36</td>\n",
       "    </tr>\n",
       "    <tr>\n",
       "      <th>id = 22</th>\n",
       "      <td>MERCEDES</td>\n",
       "      <td>APPLE</td>\n",
       "      <td>BLUE</td>\n",
       "      <td>22</td>\n",
       "    </tr>\n",
       "    <tr>\n",
       "      <th>id = 24</th>\n",
       "      <td>TOYOTA</td>\n",
       "      <td>APPLE</td>\n",
       "      <td>GRAY</td>\n",
       "      <td>36</td>\n",
       "    </tr>\n",
       "    <tr>\n",
       "      <th>id = 26</th>\n",
       "      <td>MAZDA</td>\n",
       "      <td>APPLE</td>\n",
       "      <td>BLUE</td>\n",
       "      <td>22</td>\n",
       "    </tr>\n",
       "    <tr>\n",
       "      <th>id = 27</th>\n",
       "      <td>MERCEDES</td>\n",
       "      <td>APPLE</td>\n",
       "      <td>ORANGE</td>\n",
       "      <td>37</td>\n",
       "    </tr>\n",
       "    <tr>\n",
       "      <th>id = 31</th>\n",
       "      <td>MAZDA</td>\n",
       "      <td>APPLE</td>\n",
       "      <td>ORANGE</td>\n",
       "      <td>39</td>\n",
       "    </tr>\n",
       "    <tr>\n",
       "      <th>id = 32</th>\n",
       "      <td>TOYOTA</td>\n",
       "      <td>APPLE</td>\n",
       "      <td>GRAY</td>\n",
       "      <td>36</td>\n",
       "    </tr>\n",
       "    <tr>\n",
       "      <th>id = 33</th>\n",
       "      <td>MERCEDES</td>\n",
       "      <td>APPLE</td>\n",
       "      <td>YELLOW</td>\n",
       "      <td>39</td>\n",
       "    </tr>\n",
       "    <tr>\n",
       "      <th>id = 36</th>\n",
       "      <td>MERCEDES</td>\n",
       "      <td>APPLE</td>\n",
       "      <td>ORANGE</td>\n",
       "      <td>33</td>\n",
       "    </tr>\n",
       "    <tr>\n",
       "      <th>id = 38</th>\n",
       "      <td>TOYOTA</td>\n",
       "      <td>APPLE</td>\n",
       "      <td>ORANGE</td>\n",
       "      <td>22</td>\n",
       "    </tr>\n",
       "    <tr>\n",
       "      <th>id = 39</th>\n",
       "      <td>BMW</td>\n",
       "      <td>ORANGE</td>\n",
       "      <td>BLACK</td>\n",
       "      <td>39</td>\n",
       "    </tr>\n",
       "    <tr>\n",
       "      <th>id = 40</th>\n",
       "      <td>BMW</td>\n",
       "      <td>ORANGE</td>\n",
       "      <td>GRAY</td>\n",
       "      <td>23</td>\n",
       "    </tr>\n",
       "    <tr>\n",
       "      <th>id = 43</th>\n",
       "      <td>MAZDA</td>\n",
       "      <td>APPLE</td>\n",
       "      <td>RED</td>\n",
       "      <td>32</td>\n",
       "    </tr>\n",
       "    <tr>\n",
       "      <th>id = 48</th>\n",
       "      <td>BMW</td>\n",
       "      <td>APPLE</td>\n",
       "      <td>WHITE</td>\n",
       "      <td>37</td>\n",
       "    </tr>\n",
       "  </tbody>\n",
       "</table>\n",
       "</div>"
      ],
      "text/plain": [
       "             CARS  FRUITS  COLORS  AGE\n",
       "id = 3     TOYOTA   APPLE    GRAY   31\n",
       "id = 5     TOYOTA   APPLE   GREEN   40\n",
       "id = 8        BMW  ORANGE   WHITE   37\n",
       "id = 9        BMW   APPLE   WHITE   19\n",
       "id = 11    TOYOTA   APPLE   BLACK   34\n",
       "id = 12       BMW  BANANA  YELLOW   37\n",
       "id = 14       BMW  ORANGE  ORANGE   20\n",
       "id = 15       BMW  BANANA     RED   29\n",
       "id = 16    TOYOTA   APPLE   WHITE   28\n",
       "id = 17       BMW  ORANGE   GREEN   40\n",
       "id = 19    TOYOTA   APPLE    GRAY   18\n",
       "id = 21       BMW  ORANGE     RED   36\n",
       "id = 22  MERCEDES   APPLE    BLUE   22\n",
       "id = 24    TOYOTA   APPLE    GRAY   36\n",
       "id = 26     MAZDA   APPLE    BLUE   22\n",
       "id = 27  MERCEDES   APPLE  ORANGE   37\n",
       "id = 31     MAZDA   APPLE  ORANGE   39\n",
       "id = 32    TOYOTA   APPLE    GRAY   36\n",
       "id = 33  MERCEDES   APPLE  YELLOW   39\n",
       "id = 36  MERCEDES   APPLE  ORANGE   33\n",
       "id = 38    TOYOTA   APPLE  ORANGE   22\n",
       "id = 39       BMW  ORANGE   BLACK   39\n",
       "id = 40       BMW  ORANGE    GRAY   23\n",
       "id = 43     MAZDA   APPLE     RED   32\n",
       "id = 48       BMW   APPLE   WHITE   37"
      ]
     },
     "execution_count": 50,
     "metadata": {},
     "output_type": "execute_result"
    }
   ],
   "source": [
    "df3[np.logical_or(df3[\"CARS\"] == \"BMW\",  df3[\"FRUITS\"] == \"APPLE\")]"
   ]
  },
  {
   "cell_type": "code",
   "execution_count": 51,
   "metadata": {},
   "outputs": [
    {
     "data": {
      "text/html": [
       "<div>\n",
       "<style scoped>\n",
       "    .dataframe tbody tr th:only-of-type {\n",
       "        vertical-align: middle;\n",
       "    }\n",
       "\n",
       "    .dataframe tbody tr th {\n",
       "        vertical-align: top;\n",
       "    }\n",
       "\n",
       "    .dataframe thead th {\n",
       "        text-align: right;\n",
       "    }\n",
       "</style>\n",
       "<table border=\"1\" class=\"dataframe\">\n",
       "  <thead>\n",
       "    <tr style=\"text-align: right;\">\n",
       "      <th></th>\n",
       "      <th>CARS</th>\n",
       "      <th>FRUITS</th>\n",
       "      <th>COLORS</th>\n",
       "      <th>AGE</th>\n",
       "    </tr>\n",
       "  </thead>\n",
       "  <tbody>\n",
       "    <tr>\n",
       "      <th>id = 0</th>\n",
       "      <td>MAZDA</td>\n",
       "      <td>BANANA</td>\n",
       "      <td>WHITE</td>\n",
       "      <td>35</td>\n",
       "    </tr>\n",
       "    <tr>\n",
       "      <th>id = 1</th>\n",
       "      <td>TOYOTA</td>\n",
       "      <td>BANANA</td>\n",
       "      <td>YELLOW</td>\n",
       "      <td>22</td>\n",
       "    </tr>\n",
       "    <tr>\n",
       "      <th>id = 2</th>\n",
       "      <td>TOYOTA</td>\n",
       "      <td>ORANGE</td>\n",
       "      <td>RED</td>\n",
       "      <td>25</td>\n",
       "    </tr>\n",
       "    <tr>\n",
       "      <th>id = 3</th>\n",
       "      <td>TOYOTA</td>\n",
       "      <td>APPLE</td>\n",
       "      <td>GRAY</td>\n",
       "      <td>31</td>\n",
       "    </tr>\n",
       "    <tr>\n",
       "      <th>id = 4</th>\n",
       "      <td>TOYOTA</td>\n",
       "      <td>ORANGE</td>\n",
       "      <td>GREEN</td>\n",
       "      <td>36</td>\n",
       "    </tr>\n",
       "    <tr>\n",
       "      <th>id = 5</th>\n",
       "      <td>TOYOTA</td>\n",
       "      <td>APPLE</td>\n",
       "      <td>GREEN</td>\n",
       "      <td>40</td>\n",
       "    </tr>\n",
       "    <tr>\n",
       "      <th>id = 6</th>\n",
       "      <td>MERCEDES</td>\n",
       "      <td>ORANGE</td>\n",
       "      <td>BLUE</td>\n",
       "      <td>19</td>\n",
       "    </tr>\n",
       "    <tr>\n",
       "      <th>id = 7</th>\n",
       "      <td>MAZDA</td>\n",
       "      <td>BANANA</td>\n",
       "      <td>GREEN</td>\n",
       "      <td>35</td>\n",
       "    </tr>\n",
       "    <tr>\n",
       "      <th>id = 10</th>\n",
       "      <td>MERCEDES</td>\n",
       "      <td>BANANA</td>\n",
       "      <td>WHITE</td>\n",
       "      <td>28</td>\n",
       "    </tr>\n",
       "    <tr>\n",
       "      <th>id = 11</th>\n",
       "      <td>TOYOTA</td>\n",
       "      <td>APPLE</td>\n",
       "      <td>BLACK</td>\n",
       "      <td>34</td>\n",
       "    </tr>\n",
       "    <tr>\n",
       "      <th>id = 13</th>\n",
       "      <td>MERCEDES</td>\n",
       "      <td>BANANA</td>\n",
       "      <td>RED</td>\n",
       "      <td>33</td>\n",
       "    </tr>\n",
       "    <tr>\n",
       "      <th>id = 16</th>\n",
       "      <td>TOYOTA</td>\n",
       "      <td>APPLE</td>\n",
       "      <td>WHITE</td>\n",
       "      <td>28</td>\n",
       "    </tr>\n",
       "    <tr>\n",
       "      <th>id = 18</th>\n",
       "      <td>MAZDA</td>\n",
       "      <td>ORANGE</td>\n",
       "      <td>WHITE</td>\n",
       "      <td>29</td>\n",
       "    </tr>\n",
       "    <tr>\n",
       "      <th>id = 19</th>\n",
       "      <td>TOYOTA</td>\n",
       "      <td>APPLE</td>\n",
       "      <td>GRAY</td>\n",
       "      <td>18</td>\n",
       "    </tr>\n",
       "    <tr>\n",
       "      <th>id = 20</th>\n",
       "      <td>MERCEDES</td>\n",
       "      <td>BANANA</td>\n",
       "      <td>GREEN</td>\n",
       "      <td>37</td>\n",
       "    </tr>\n",
       "    <tr>\n",
       "      <th>id = 22</th>\n",
       "      <td>MERCEDES</td>\n",
       "      <td>APPLE</td>\n",
       "      <td>BLUE</td>\n",
       "      <td>22</td>\n",
       "    </tr>\n",
       "    <tr>\n",
       "      <th>id = 23</th>\n",
       "      <td>MAZDA</td>\n",
       "      <td>BANANA</td>\n",
       "      <td>RED</td>\n",
       "      <td>29</td>\n",
       "    </tr>\n",
       "    <tr>\n",
       "      <th>id = 24</th>\n",
       "      <td>TOYOTA</td>\n",
       "      <td>APPLE</td>\n",
       "      <td>GRAY</td>\n",
       "      <td>36</td>\n",
       "    </tr>\n",
       "    <tr>\n",
       "      <th>id = 25</th>\n",
       "      <td>MERCEDES</td>\n",
       "      <td>ORANGE</td>\n",
       "      <td>GREEN</td>\n",
       "      <td>35</td>\n",
       "    </tr>\n",
       "    <tr>\n",
       "      <th>id = 26</th>\n",
       "      <td>MAZDA</td>\n",
       "      <td>APPLE</td>\n",
       "      <td>BLUE</td>\n",
       "      <td>22</td>\n",
       "    </tr>\n",
       "    <tr>\n",
       "      <th>id = 27</th>\n",
       "      <td>MERCEDES</td>\n",
       "      <td>APPLE</td>\n",
       "      <td>ORANGE</td>\n",
       "      <td>37</td>\n",
       "    </tr>\n",
       "    <tr>\n",
       "      <th>id = 28</th>\n",
       "      <td>MERCEDES</td>\n",
       "      <td>ORANGE</td>\n",
       "      <td>RED</td>\n",
       "      <td>21</td>\n",
       "    </tr>\n",
       "    <tr>\n",
       "      <th>id = 29</th>\n",
       "      <td>MAZDA</td>\n",
       "      <td>BANANA</td>\n",
       "      <td>BLUE</td>\n",
       "      <td>19</td>\n",
       "    </tr>\n",
       "    <tr>\n",
       "      <th>id = 30</th>\n",
       "      <td>TOYOTA</td>\n",
       "      <td>ORANGE</td>\n",
       "      <td>BLUE</td>\n",
       "      <td>24</td>\n",
       "    </tr>\n",
       "    <tr>\n",
       "      <th>id = 31</th>\n",
       "      <td>MAZDA</td>\n",
       "      <td>APPLE</td>\n",
       "      <td>ORANGE</td>\n",
       "      <td>39</td>\n",
       "    </tr>\n",
       "    <tr>\n",
       "      <th>id = 32</th>\n",
       "      <td>TOYOTA</td>\n",
       "      <td>APPLE</td>\n",
       "      <td>GRAY</td>\n",
       "      <td>36</td>\n",
       "    </tr>\n",
       "    <tr>\n",
       "      <th>id = 33</th>\n",
       "      <td>MERCEDES</td>\n",
       "      <td>APPLE</td>\n",
       "      <td>YELLOW</td>\n",
       "      <td>39</td>\n",
       "    </tr>\n",
       "    <tr>\n",
       "      <th>id = 34</th>\n",
       "      <td>TOYOTA</td>\n",
       "      <td>ORANGE</td>\n",
       "      <td>RED</td>\n",
       "      <td>36</td>\n",
       "    </tr>\n",
       "    <tr>\n",
       "      <th>id = 35</th>\n",
       "      <td>TOYOTA</td>\n",
       "      <td>ORANGE</td>\n",
       "      <td>GRAY</td>\n",
       "      <td>35</td>\n",
       "    </tr>\n",
       "    <tr>\n",
       "      <th>id = 36</th>\n",
       "      <td>MERCEDES</td>\n",
       "      <td>APPLE</td>\n",
       "      <td>ORANGE</td>\n",
       "      <td>33</td>\n",
       "    </tr>\n",
       "    <tr>\n",
       "      <th>id = 37</th>\n",
       "      <td>MAZDA</td>\n",
       "      <td>ORANGE</td>\n",
       "      <td>GREEN</td>\n",
       "      <td>28</td>\n",
       "    </tr>\n",
       "    <tr>\n",
       "      <th>id = 38</th>\n",
       "      <td>TOYOTA</td>\n",
       "      <td>APPLE</td>\n",
       "      <td>ORANGE</td>\n",
       "      <td>22</td>\n",
       "    </tr>\n",
       "    <tr>\n",
       "      <th>id = 41</th>\n",
       "      <td>TOYOTA</td>\n",
       "      <td>BANANA</td>\n",
       "      <td>RED</td>\n",
       "      <td>18</td>\n",
       "    </tr>\n",
       "    <tr>\n",
       "      <th>id = 42</th>\n",
       "      <td>MERCEDES</td>\n",
       "      <td>BANANA</td>\n",
       "      <td>GREEN</td>\n",
       "      <td>21</td>\n",
       "    </tr>\n",
       "    <tr>\n",
       "      <th>id = 43</th>\n",
       "      <td>MAZDA</td>\n",
       "      <td>APPLE</td>\n",
       "      <td>RED</td>\n",
       "      <td>32</td>\n",
       "    </tr>\n",
       "    <tr>\n",
       "      <th>id = 44</th>\n",
       "      <td>MERCEDES</td>\n",
       "      <td>ORANGE</td>\n",
       "      <td>ORANGE</td>\n",
       "      <td>25</td>\n",
       "    </tr>\n",
       "    <tr>\n",
       "      <th>id = 45</th>\n",
       "      <td>TOYOTA</td>\n",
       "      <td>ORANGE</td>\n",
       "      <td>WHITE</td>\n",
       "      <td>29</td>\n",
       "    </tr>\n",
       "    <tr>\n",
       "      <th>id = 46</th>\n",
       "      <td>MAZDA</td>\n",
       "      <td>BANANA</td>\n",
       "      <td>BLUE</td>\n",
       "      <td>34</td>\n",
       "    </tr>\n",
       "    <tr>\n",
       "      <th>id = 47</th>\n",
       "      <td>MAZDA</td>\n",
       "      <td>ORANGE</td>\n",
       "      <td>GREEN</td>\n",
       "      <td>37</td>\n",
       "    </tr>\n",
       "    <tr>\n",
       "      <th>id = 49</th>\n",
       "      <td>TOYOTA</td>\n",
       "      <td>ORANGE</td>\n",
       "      <td>WHITE</td>\n",
       "      <td>30</td>\n",
       "    </tr>\n",
       "  </tbody>\n",
       "</table>\n",
       "</div>"
      ],
      "text/plain": [
       "             CARS  FRUITS  COLORS  AGE\n",
       "id = 0      MAZDA  BANANA   WHITE   35\n",
       "id = 1     TOYOTA  BANANA  YELLOW   22\n",
       "id = 2     TOYOTA  ORANGE     RED   25\n",
       "id = 3     TOYOTA   APPLE    GRAY   31\n",
       "id = 4     TOYOTA  ORANGE   GREEN   36\n",
       "id = 5     TOYOTA   APPLE   GREEN   40\n",
       "id = 6   MERCEDES  ORANGE    BLUE   19\n",
       "id = 7      MAZDA  BANANA   GREEN   35\n",
       "id = 10  MERCEDES  BANANA   WHITE   28\n",
       "id = 11    TOYOTA   APPLE   BLACK   34\n",
       "id = 13  MERCEDES  BANANA     RED   33\n",
       "id = 16    TOYOTA   APPLE   WHITE   28\n",
       "id = 18     MAZDA  ORANGE   WHITE   29\n",
       "id = 19    TOYOTA   APPLE    GRAY   18\n",
       "id = 20  MERCEDES  BANANA   GREEN   37\n",
       "id = 22  MERCEDES   APPLE    BLUE   22\n",
       "id = 23     MAZDA  BANANA     RED   29\n",
       "id = 24    TOYOTA   APPLE    GRAY   36\n",
       "id = 25  MERCEDES  ORANGE   GREEN   35\n",
       "id = 26     MAZDA   APPLE    BLUE   22\n",
       "id = 27  MERCEDES   APPLE  ORANGE   37\n",
       "id = 28  MERCEDES  ORANGE     RED   21\n",
       "id = 29     MAZDA  BANANA    BLUE   19\n",
       "id = 30    TOYOTA  ORANGE    BLUE   24\n",
       "id = 31     MAZDA   APPLE  ORANGE   39\n",
       "id = 32    TOYOTA   APPLE    GRAY   36\n",
       "id = 33  MERCEDES   APPLE  YELLOW   39\n",
       "id = 34    TOYOTA  ORANGE     RED   36\n",
       "id = 35    TOYOTA  ORANGE    GRAY   35\n",
       "id = 36  MERCEDES   APPLE  ORANGE   33\n",
       "id = 37     MAZDA  ORANGE   GREEN   28\n",
       "id = 38    TOYOTA   APPLE  ORANGE   22\n",
       "id = 41    TOYOTA  BANANA     RED   18\n",
       "id = 42  MERCEDES  BANANA   GREEN   21\n",
       "id = 43     MAZDA   APPLE     RED   32\n",
       "id = 44  MERCEDES  ORANGE  ORANGE   25\n",
       "id = 45    TOYOTA  ORANGE   WHITE   29\n",
       "id = 46     MAZDA  BANANA    BLUE   34\n",
       "id = 47     MAZDA  ORANGE   GREEN   37\n",
       "id = 49    TOYOTA  ORANGE   WHITE   30"
      ]
     },
     "execution_count": 51,
     "metadata": {},
     "output_type": "execute_result"
    }
   ],
   "source": [
    "df3[np.logical_not(df3[\"CARS\"] == \"BMW\")]"
   ]
  },
  {
   "cell_type": "markdown",
   "metadata": {},
   "source": [
    "#### More about loops"
   ]
  },
  {
   "cell_type": "code",
   "execution_count": 52,
   "metadata": {},
   "outputs": [
    {
     "name": "stdout",
     "output_type": "stream",
     "text": [
      "0 30\n",
      "1 31\n",
      "2 32\n",
      "3 33\n",
      "4 34\n",
      "5 35\n",
      "6 36\n",
      "7 37\n",
      "8 38\n",
      "9 39\n",
      "10 40\n"
     ]
    }
   ],
   "source": [
    "#Loop over lists\n",
    "list_var = list(range(30,41))\n",
    "for i , j in enumerate(list_var) :\n",
    "    print(i,j)"
   ]
  },
  {
   "cell_type": "code",
   "execution_count": 53,
   "metadata": {},
   "outputs": [
    {
     "name": "stdout",
     "output_type": "stream",
     "text": [
      "Counter[0] = H\n",
      "Counter[1] = e\n",
      "Counter[2] = l\n",
      "Counter[3] = l\n",
      "Counter[4] = o\n",
      "Counter[5] =  \n",
      "Counter[6] = W\n",
      "Counter[7] = o\n",
      "Counter[8] = r\n",
      "Counter[9] = l\n",
      "Counter[10] = d\n",
      "Counter[11] = !\n"
     ]
    }
   ],
   "source": [
    "#Loop over strings\n",
    "string = \"Hello World!\"\n",
    "for counter , char in enumerate(string) :\n",
    "    print(\"Counter[{}] = {}\".format(counter , char))"
   ]
  },
  {
   "cell_type": "code",
   "execution_count": 54,
   "metadata": {},
   "outputs": [
    {
     "name": "stdout",
     "output_type": "stream",
     "text": [
      "{'criteria': ['Manipulation', 'Indexing', 'Ordering'], 'list': ['By subsetting', 'By numeric indecies', 'The order is taken into account'], 'dictionary': ['By subsetting', 'By key indecies', \"The order isn't' taken into account\"]}\n"
     ]
    }
   ],
   "source": [
    "#Loop over dictionary\n",
    "print(dic)"
   ]
  },
  {
   "cell_type": "code",
   "execution_count": 55,
   "metadata": {},
   "outputs": [
    {
     "name": "stdout",
     "output_type": "stream",
     "text": [
      "Key   :  criteria\n",
      "Value :  ['Manipulation', 'Indexing', 'Ordering']\n",
      "Key   :  list\n",
      "Value :  ['By subsetting', 'By numeric indecies', 'The order is taken into account']\n",
      "Key   :  dictionary\n",
      "Value :  ['By subsetting', 'By key indecies', \"The order isn't' taken into account\"]\n"
     ]
    }
   ],
   "source": [
    "for key , value in dic.items() :\n",
    "    print(\"Key   : \",key)\n",
    "    print(\"Value : \",value)"
   ]
  },
  {
   "cell_type": "code",
   "execution_count": 56,
   "metadata": {},
   "outputs": [
    {
     "name": "stdout",
     "output_type": "stream",
     "text": [
      "numpy_arr[0] = 1 .\n",
      "numpy_arr[1] = 5 .\n",
      "numpy_arr[2] = 9 .\n",
      "numpy_arr[3] = 13 .\n",
      "numpy_arr[4] = 17 .\n"
     ]
    }
   ],
   "source": [
    "#Loop over numpy 1d numpy array (same as lists)\n",
    "numpy_arr = np.array(range(1,20,4))\n",
    "for i , j in enumerate(numpy_arr) :\n",
    "    print(\"numpy_arr[{}] = {} .\".format(i,j))"
   ]
  },
  {
   "cell_type": "code",
   "execution_count": 57,
   "metadata": {},
   "outputs": [
    {
     "name": "stdout",
     "output_type": "stream",
     "text": [
      "numpy_arr[0] = [8 1 9 2 7] .\n",
      "numpy_arr[1] = [8 8 1 8 9] .\n",
      "numpy_arr[2] = [5 1 8 8 5] .\n",
      "numpy_arr[3] = [6 4 1 3 7] .\n",
      "numpy_arr[4] = [5 5 4 2 1] .\n"
     ]
    }
   ],
   "source": [
    "#Loop over numpy 2d numpy array \n",
    "numpy_arr = np.array([[np.random.randint(1,10) for i in range(5)] for j in range(5)])\n",
    "#Here it will print each row as an element\n",
    "for i , j in enumerate(numpy_arr) :\n",
    "    print(\"numpy_arr[{}] = {} .\".format(i,j))"
   ]
  },
  {
   "cell_type": "code",
   "execution_count": 58,
   "metadata": {},
   "outputs": [
    {
     "name": "stdout",
     "output_type": "stream",
     "text": [
      "numpy_arr[0] = [4 6 9] .\n",
      "numpy_arr[1] = [6 5 1] .\n",
      "numpy_arr[2] = [3 4 3] .\n",
      "numpy_arr[0] = 4 .\n",
      "numpy_arr[1] = 6 .\n",
      "numpy_arr[2] = 9 .\n",
      "numpy_arr[3] = 6 .\n",
      "numpy_arr[4] = 5 .\n",
      "numpy_arr[5] = 1 .\n",
      "numpy_arr[6] = 3 .\n",
      "numpy_arr[7] = 4 .\n",
      "numpy_arr[8] = 3 .\n"
     ]
    }
   ],
   "source": [
    "#Loop over numpy 2d numpy array \n",
    "numpy_arr = np.array([[np.random.randint(1,10) for i in range(3)] for j in range(3)])\n",
    "#Here it will print each row as an element\n",
    "for i , j in enumerate(numpy_arr) :\n",
    "    print(\"numpy_arr[{}] = {} .\".format(i,j))\n",
    "#Here it will print each element sequentially\n",
    "for i , j in enumerate(np.nditer(numpy_arr)) :\n",
    "    print(\"numpy_arr[{}] = {} .\".format(i,j))"
   ]
  },
  {
   "cell_type": "code",
   "execution_count": 59,
   "metadata": {},
   "outputs": [
    {
     "name": "stdout",
     "output_type": "stream",
     "text": [
      "CARS\n",
      "FRUITS\n",
      "COLORS\n",
      "AGE\n"
     ]
    }
   ],
   "source": [
    "#loop over pandas' dataframes\n",
    "#Here it will only print the column's names\n",
    "for i in df3 :\n",
    "    print(i)"
   ]
  },
  {
   "cell_type": "code",
   "execution_count": 60,
   "metadata": {},
   "outputs": [
    {
     "name": "stdout",
     "output_type": "stream",
     "text": [
      "Id  :  id = 0\n",
      "Row : \n",
      " CARS    MAZDA\n",
      "AGE        35\n",
      "Name: id = 0, dtype: object\n"
     ]
    }
   ],
   "source": [
    "#loop over pandas' dataframes\n",
    "#Here it will only print every row in the dataframe\n",
    "for identifier , row in df3.iterrows() :\n",
    "    print(\"Id  : \" ,identifier)\n",
    "    #Selective print\n",
    "    print(\"Row : \\n\",row[[\"CARS\",\"AGE\"]])\n",
    "    if np.random.randint(1,3) == 1 :\n",
    "        break"
   ]
  },
  {
   "cell_type": "code",
   "execution_count": 61,
   "metadata": {},
   "outputs": [
    {
     "name": "stdout",
     "output_type": "stream",
     "text": [
      "MAZDA\n",
      "TOYOTA\n",
      "TOYOTA\n",
      "TOYOTA\n",
      "TOYOTA\n",
      "TOYOTA\n",
      "MERCEDES\n",
      "MAZDA\n",
      "BMW\n",
      "BMW\n"
     ]
    }
   ],
   "source": [
    "#Loop over pandas' Series\n",
    "for element in df3[\"CARS\"][0:10] :\n",
    "    print(element)"
   ]
  },
  {
   "cell_type": "markdown",
   "metadata": {},
   "source": [
    "# Python Data Science Toolbox"
   ]
  },
  {
   "cell_type": "markdown",
   "metadata": {},
   "source": [
    "#### User defined functions"
   ]
  },
  {
   "cell_type": "markdown",
   "metadata": {},
   "source": [
    "<p>\n",
    "    A function consist of a header and a body.<br/>\n",
    "    Parameter when defining the function.<br/>\n",
    "    Argument when invoking the function.<br/>\n",
    "    Docstrings : to describe the function, immediatly after the function's header.\n",
    "</p>"
   ]
  },
  {
   "cell_type": "code",
   "execution_count": 62,
   "metadata": {},
   "outputs": [],
   "source": [
    "def function1(parameter) :\n",
    "    \"\"\"This function does nothing.\"\"\"\n",
    "    print(\"Done!\")\n",
    "    \n",
    "def function2(parameter) :\n",
    "    \"\"\"This function returns the value of the passed argument.\"\"\"\n",
    "    print(\"Passed : \",parameter)\n",
    "    return parameter"
   ]
  },
  {
   "cell_type": "code",
   "execution_count": 63,
   "metadata": {},
   "outputs": [
    {
     "name": "stdout",
     "output_type": "stream",
     "text": [
      "Help on function function1 in module __main__:\n",
      "\n",
      "function1(parameter)\n",
      "    This function does nothing.\n",
      "\n",
      "Help on function function2 in module __main__:\n",
      "\n",
      "function2(parameter)\n",
      "    This function returns the value of the passed argument.\n",
      "\n",
      "\n",
      "Done!\n",
      "Passed :  10\n"
     ]
    },
    {
     "data": {
      "text/plain": [
       "10"
      ]
     },
     "execution_count": 63,
     "metadata": {},
     "output_type": "execute_result"
    }
   ],
   "source": [
    "help(function1)\n",
    "help(function2)\n",
    "print()\n",
    "argument = 10\n",
    "function1(argument)\n",
    "function2(argument)"
   ]
  },
  {
   "cell_type": "code",
   "execution_count": 64,
   "metadata": {},
   "outputs": [],
   "source": [
    "#LEGB Rule\n",
    "#When the interpreter reaches a vraiable name, it searches first at local scope,then enclosing then global and finally\n",
    "#built-in scope"
   ]
  },
  {
   "cell_type": "code",
   "execution_count": 65,
   "metadata": {},
   "outputs": [
    {
     "data": {
      "text/plain": [
       "['Categorical',\n",
       " 'CategoricalDtype',\n",
       " 'CategoricalIndex',\n",
       " 'DataFrame',\n",
       " 'DateOffset',\n",
       " 'DatetimeIndex',\n",
       " 'DatetimeTZDtype',\n",
       " 'ExcelFile',\n",
       " 'ExcelWriter',\n",
       " 'Float64Index']"
      ]
     },
     "execution_count": 65,
     "metadata": {},
     "output_type": "execute_result"
    }
   ],
   "source": [
    "#Module details with dir\n",
    "dir(pd)[0:10]"
   ]
  },
  {
   "cell_type": "code",
   "execution_count": 66,
   "metadata": {},
   "outputs": [
    {
     "name": "stdout",
     "output_type": "stream",
     "text": [
      "power(3) =  3\n",
      "power(3,1) =  3\n"
     ]
    }
   ],
   "source": [
    "#Adding a default parameter\n",
    "def power(x,n = 1) :\n",
    "    \"\"\"Computes x to the power on n.\"\"\"\n",
    "    return x**n\n",
    "\n",
    "print(\"power(3) = \",power(3))\n",
    "print(\"power(3,1) = \",power(3,1))"
   ]
  },
  {
   "cell_type": "code",
   "execution_count": 67,
   "metadata": {},
   "outputs": [
    {
     "data": {
      "text/plain": [
       "33"
      ]
     },
     "execution_count": 67,
     "metadata": {},
     "output_type": "execute_result"
    }
   ],
   "source": [
    "#Adding flexible arguments(*args) - The arguments treated as a tuple\n",
    "def sum_all(*args) :\n",
    "    \"\"\"Compute the summision of all passed arguments\"\"\"\n",
    "    sum_var = 0\n",
    "    for parameter in args :\n",
    "        sum_var += parameter\n",
    "    return sum_var\n",
    "    \n",
    "sum_all(1,2,3,4,5,6,0,7,5)"
   ]
  },
  {
   "cell_type": "code",
   "execution_count": 68,
   "metadata": {},
   "outputs": [
    {
     "name": "stdout",
     "output_type": "stream",
     "text": [
      "first_name  :  Ayman\n",
      "last_name  :  Ghanem\n",
      "age  :  24\n"
     ]
    }
   ],
   "source": [
    "#Adding flexible arguments(**kwargs) - The arguments treated as a dictionary\n",
    "def print_all(**kwargs) :\n",
    "    \"\"\"Prints all identifiers with its corresponding values.\"\"\"\n",
    "    for key , value in kwargs.items() :\n",
    "        print(key,\" : \",value)\n",
    "\n",
    "print_all(first_name  = \"Ayman\" , last_name = \"Ghanem\" , age = 24)"
   ]
  },
  {
   "cell_type": "code",
   "execution_count": 69,
   "metadata": {},
   "outputs": [
    {
     "ename": "ValueError",
     "evalue": "Value must be non-negative.",
     "output_type": "error",
     "traceback": [
      "\u001b[1;31m---------------------------------------------------------------------------\u001b[0m",
      "\u001b[1;31mValueError\u001b[0m                                Traceback (most recent call last)",
      "\u001b[1;32m<ipython-input-69-50afef13afe6>\u001b[0m in \u001b[0;36m<module>\u001b[1;34m\u001b[0m\n\u001b[0;32m      7\u001b[0m     \u001b[1;32mexcept\u001b[0m \u001b[1;33m:\u001b[0m\u001b[1;33m\u001b[0m\u001b[1;33m\u001b[0m\u001b[0m\n\u001b[0;32m      8\u001b[0m         \u001b[0mprint\u001b[0m\u001b[1;33m(\u001b[0m\u001b[1;34m\"The inputted value must be int or float.\"\u001b[0m\u001b[1;33m)\u001b[0m\u001b[1;33m\u001b[0m\u001b[1;33m\u001b[0m\u001b[0m\n\u001b[1;32m----> 9\u001b[1;33m \u001b[0merror_handler\u001b[0m\u001b[1;33m(\u001b[0m\u001b[1;33m-\u001b[0m\u001b[1;36m1\u001b[0m\u001b[1;33m)\u001b[0m\u001b[1;33m\u001b[0m\u001b[1;33m\u001b[0m\u001b[0m\n\u001b[0m",
      "\u001b[1;32m<ipython-input-69-50afef13afe6>\u001b[0m in \u001b[0;36merror_handler\u001b[1;34m(x)\u001b[0m\n\u001b[0;32m      2\u001b[0m     \u001b[1;34m\"\"\"Showing an example of error handling.\"\"\"\u001b[0m\u001b[1;33m\u001b[0m\u001b[1;33m\u001b[0m\u001b[0m\n\u001b[0;32m      3\u001b[0m     \u001b[1;32mif\u001b[0m \u001b[1;33m(\u001b[0m\u001b[0mint\u001b[0m\u001b[1;33m(\u001b[0m\u001b[0mx\u001b[0m\u001b[1;33m)\u001b[0m \u001b[1;33m<\u001b[0m \u001b[1;36m0\u001b[0m \u001b[1;33m)\u001b[0m \u001b[1;33m:\u001b[0m\u001b[1;33m\u001b[0m\u001b[1;33m\u001b[0m\u001b[0m\n\u001b[1;32m----> 4\u001b[1;33m         \u001b[1;32mraise\u001b[0m \u001b[0mValueError\u001b[0m\u001b[1;33m(\u001b[0m\u001b[1;34m\"Value must be non-negative.\"\u001b[0m\u001b[1;33m)\u001b[0m\u001b[1;33m\u001b[0m\u001b[1;33m\u001b[0m\u001b[0m\n\u001b[0m\u001b[0;32m      5\u001b[0m     \u001b[1;32mtry\u001b[0m \u001b[1;33m:\u001b[0m\u001b[1;33m\u001b[0m\u001b[1;33m\u001b[0m\u001b[0m\n\u001b[0;32m      6\u001b[0m         \u001b[0mprint\u001b[0m\u001b[1;33m(\u001b[0m\u001b[0mx\u001b[0m\u001b[1;33m**\u001b[0m\u001b[1;36m0.5\u001b[0m\u001b[1;33m)\u001b[0m\u001b[1;33m\u001b[0m\u001b[1;33m\u001b[0m\u001b[0m\n",
      "\u001b[1;31mValueError\u001b[0m: Value must be non-negative."
     ]
    }
   ],
   "source": [
    "def error_handler(x) :\n",
    "    \"\"\"Showing an example of error handling.\"\"\"\n",
    "    if (int(x) < 0 ) :\n",
    "        raise ValueError(\"Value must be non-negative.\")\n",
    "    try :\n",
    "        print(x**0.5)\n",
    "    except :\n",
    "        print(\"The inputted value must be int or float.\")\n",
    "error_handler(-1)"
   ]
  },
  {
   "cell_type": "code",
   "execution_count": null,
   "metadata": {},
   "outputs": [],
   "source": [
    "error_handler(1)\n",
    "error_handler(\"1\")"
   ]
  },
  {
   "cell_type": "code",
   "execution_count": 70,
   "metadata": {},
   "outputs": [
    {
     "data": {
      "text/plain": [
       "'hello Ayman'"
      ]
     },
     "execution_count": 70,
     "metadata": {},
     "output_type": "execute_result"
    }
   ],
   "source": [
    "#Lambda function\n",
    "lambd = lambda x : \"hello \"+x\n",
    "lambd(\"Ayman\")"
   ]
  },
  {
   "cell_type": "code",
   "execution_count": 71,
   "metadata": {},
   "outputs": [
    {
     "name": "stdout",
     "output_type": "stream",
     "text": [
      "<map object at 0x00000087EFD402E8>\n",
      "<class 'map'>\n",
      "[2, 4, 6, 8, 10]\n"
     ]
    }
   ],
   "source": [
    "#Anonymous function\n",
    "sequence = range(1,6)\n",
    "doubled_seq = map(lambda x : x*2 , sequence)\n",
    "print(doubled_seq)\n",
    "print(type(doubled_seq))\n",
    "print(list(doubled_seq))"
   ]
  },
  {
   "cell_type": "code",
   "execution_count": 72,
   "metadata": {},
   "outputs": [
    {
     "name": "stdout",
     "output_type": "stream",
     "text": [
      "outer x = 3\n",
      "inner x = 3\n",
      "inner y = 13\n",
      "outer y = 13\n"
     ]
    },
    {
     "data": {
      "text/plain": [
       "13"
      ]
     },
     "execution_count": 72,
     "metadata": {},
     "output_type": "execute_result"
    }
   ],
   "source": [
    "#Nested functions (Example 1)\n",
    "def outer() :\n",
    "    \"\"\"Enclosing function\"\"\"\n",
    "    x = np.random.randint(1,11)\n",
    "    print(\"outer x = {}\".format(x))\n",
    "    \n",
    "    def inner() :\n",
    "        \"\"\"Nested function\"\"\"\n",
    "        print(\"inner x = {}\".format(x))\n",
    "        y = x + 10\n",
    "        print(\"inner y = {}\".format(y))\n",
    "        return y\n",
    "    \n",
    "    y = inner()\n",
    "    print(\"outer y = {}\".format(y))\n",
    "    return y\n",
    "\n",
    "outer()"
   ]
  },
  {
   "cell_type": "code",
   "execution_count": 73,
   "metadata": {},
   "outputs": [
    {
     "name": "stdout",
     "output_type": "stream",
     "text": [
      "8\n"
     ]
    }
   ],
   "source": [
    "#Returning functions(Clousre - one of the benifits of nested functions)\n",
    "#The inner function remembers the state of the outer function\n",
    "def outer(n) :\n",
    "    \"\"\"Return the inner function\"\"\"\n",
    "    def inner(x) :\n",
    "        \"\"\"Computes x (inner function parameter) to the power on n(outer function parameter).\"\"\"\n",
    "        y = x ** n \n",
    "        return y\n",
    "    return inner\n",
    "\n",
    "cubic = outer(3)\n",
    "print(cubic(2))"
   ]
  },
  {
   "cell_type": "code",
   "execution_count": 74,
   "metadata": {},
   "outputs": [
    {
     "name": "stdout",
     "output_type": "stream",
     "text": [
      "name :  Ayman Global\n",
      "outer_var :  Ayman declared in outer's local\n",
      "outer_var (from inner) :  Ayman declared in outer's local\n",
      "edited by inner\n",
      "\n",
      "outer_var (from outer) :  Ayman declared in outer's local\n",
      "edited by inner\n",
      "\n",
      "name :  Ayman Global\n",
      "edited by outer\n",
      "\n"
     ]
    },
    {
     "data": {
      "text/plain": [
       "'Done'"
      ]
     },
     "execution_count": 74,
     "metadata": {},
     "output_type": "execute_result"
    }
   ],
   "source": [
    "#Using of nonlocal and global\n",
    "name = \"Ayman Global\"\n",
    "print(\"name : \",name)\n",
    "def outer() :\n",
    "    #global keyword - give the variable global scope\n",
    "    global name\n",
    "    name += \"\\nedited by outer\\n\"\n",
    "    outer_var = \"Ayman declared in outer\\'s local\"\n",
    "    print(\"outer_var : \",outer_var)\n",
    "    def inner() :\n",
    "        #nonlocal keyword - give the variable enclosing scope\n",
    "        nonlocal outer_var\n",
    "        outer_var +=\"\\nedited by inner\\n\"\n",
    "        print(\"outer_var (from inner) : \" ,outer_var)\n",
    "        return outer_var\n",
    "    inner()\n",
    "    print(\"outer_var (from outer) : \" ,outer_var)\n",
    "    print(\"name : \",name)\n",
    "    return \"Done\"\n",
    "\n",
    "outer()"
   ]
  },
  {
   "cell_type": "code",
   "execution_count": 75,
   "metadata": {},
   "outputs": [
    {
     "data": {
      "text/plain": [
       "['ALLOW_THREADS', 'AxisError', 'BUFSIZE', 'CLIP', 'ComplexWarning']"
      ]
     },
     "execution_count": 75,
     "metadata": {},
     "output_type": "execute_result"
    }
   ],
   "source": [
    "#Package or module components\n",
    "dir(np)[0:5]"
   ]
  },
  {
   "cell_type": "code",
   "execution_count": 76,
   "metadata": {},
   "outputs": [
    {
     "name": "stdout",
     "output_type": "stream",
     "text": [
      "[1, 2, 3, 4, 5, 6, 7, 8, 9]\n",
      "{1, 2, 3, 4, 5, 6, 7, 8, 9}\n",
      "(1, 2, 3, 4, 5, 6, 7, 8, 9)\n",
      "\n",
      "[1, 0, 1, 0, 1, 0, 1, 0, 1]\n",
      "{0, 1}\n",
      "(1, 0, 1, 0, 1, 0, 1, 0, 1)\n",
      "\n",
      "Type of list_map :  <class 'map'>\n",
      "Type of set_map :  <class 'map'>\n",
      "Type of tuple_map :  <class 'map'>\n",
      "\n",
      "After using list :  <class 'list'>\n",
      "After using set :  <class 'set'>\n",
      "After using tuple :  <class 'tuple'>\n"
     ]
    }
   ],
   "source": [
    "#Functions with lambda expression\n",
    "#1.map function - to perform an operation to each element of the sequenece\n",
    "list_var = list(range(1,10))\n",
    "set_var = set(list_var)\n",
    "tuple_var = tuple(list_var)\n",
    "print(list_var)\n",
    "print(set_var)\n",
    "print(tuple_var)\n",
    "print()\n",
    "\n",
    "list_map = map(lambda x : x % 2 , list_var)\n",
    "set_map = map(lambda x : x % 2 , set_var)\n",
    "tuple_map = map(lambda x : x % 2 , tuple_var)\n",
    "print(list(list_map))\n",
    "print(set(set_map))\n",
    "print(tuple(tuple_map))\n",
    "print()\n",
    "\n",
    "print(\"Type of list_map : \",type(list_map))\n",
    "print(\"Type of set_map : \",type(set_map))\n",
    "print(\"Type of tuple_map : \",type(tuple_map))\n",
    "print()\n",
    "\n",
    "print(\"After using list : \",type(list(list_map)))\n",
    "print(\"After using set : \",type(set(set_map)))\n",
    "print(\"After using tuple : \",type(tuple(tuple_map)))"
   ]
  },
  {
   "cell_type": "code",
   "execution_count": 77,
   "metadata": {},
   "outputs": [
    {
     "name": "stdout",
     "output_type": "stream",
     "text": [
      "<map object at 0x00000087EFD40EB8>\n",
      "[0, 1, 2, 2, 3, 3, 2]\n",
      "<map object at 0x00000087EFD40EB8>\n",
      "[]\n"
     ]
    }
   ],
   "source": [
    "#Note :\n",
    "li = list([1,2,4,5,6,7,4])\n",
    "ma = map(lambda x : x //2 , li)\n",
    "print(ma)\n",
    "print(list(ma))\n",
    "print(ma)\n",
    "print(list(ma))"
   ]
  },
  {
   "cell_type": "code",
   "execution_count": 78,
   "metadata": {},
   "outputs": [
    {
     "name": "stdout",
     "output_type": "stream",
     "text": [
      "[1, 2, 3, 4, 5, 6, 7, 8, 9]\n",
      "{1, 2, 3, 4, 5, 6, 7, 8, 9}\n",
      "(1, 2, 3, 4, 5, 6, 7, 8, 9)\n",
      "\n",
      "[1, 4, 7]\n",
      "{1, 4, 7}\n",
      "(1, 4, 7)\n",
      "\n",
      "Type of list_filter :  <class 'filter'>\n",
      "Type of set_filter :  <class 'filter'>\n",
      "Type of tuple_filter :  <class 'filter'>\n",
      "\n"
     ]
    }
   ],
   "source": [
    "#Functions with lambda expression\n",
    "#2.filter function - to filter the elements of a sequenec based on defined condition\n",
    "list_var = list(range(1,10))\n",
    "set_var = set(list_var)\n",
    "tuple_var = tuple(list_var)\n",
    "print(list_var)\n",
    "print(set_var)\n",
    "print(tuple_var)\n",
    "print()\n",
    "\n",
    "list_filter = filter(lambda x : x % 3 == 1 , list_var)\n",
    "set_filter = filter(lambda x : x % 3 == 1 , set_var)\n",
    "tuple_filter = filter(lambda x : x % 3 == 1 , tuple_var)\n",
    "print(list(list_filter))\n",
    "print(set(set_filter))\n",
    "print(tuple(tuple_filter))\n",
    "print()\n",
    "\n",
    "print(\"Type of list_filter : \",type(list_filter))\n",
    "print(\"Type of set_filter : \",type(set_filter))\n",
    "print(\"Type of tuple_filter : \",type(tuple_filter))\n",
    "print()"
   ]
  },
  {
   "cell_type": "code",
   "execution_count": 79,
   "metadata": {},
   "outputs": [
    {
     "name": "stdout",
     "output_type": "stream",
     "text": [
      "[1, 1, 1]\n",
      "3\n"
     ]
    }
   ],
   "source": [
    "#Functions with lambda expression\n",
    "#3.reduce function - to perform an operation on all elements of a sequence (returns one value)\n",
    "from functools import reduce\n",
    "list_var = list([1 for i in range(3)])\n",
    "reduce_result = reduce(lambda a ,b : a + b , list_var)\n",
    "print(list_var)\n",
    "print(reduce_result)"
   ]
  },
  {
   "cell_type": "markdown",
   "metadata": {},
   "source": [
    "#### Iterators and Iterables"
   ]
  },
  {
   "cell_type": "markdown",
   "metadata": {},
   "source": [
    "<i>Iterables</i> are objects capable of returning iterators.<br/>\n",
    "<i>Iterators</i> are objects capable of saving the current state and returning the next state(value) using next.<br/>\n",
    "Using for loop we can iterate over string, list and range object.<br/>\n",
    "Example of iterables are lists, strings , dictionaries and file connenctions.<br/>\n",
    "We can get an iterator by applying iter to iterables.<br/>"
   ]
  },
  {
   "cell_type": "code",
   "execution_count": 80,
   "metadata": {},
   "outputs": [
    {
     "name": "stdout",
     "output_type": "stream",
     "text": [
      " Type of list is <class 'list'>,\n",
      " type of string is <class 'str'>,\n",
      " type of range object is <class 'range'>\n",
      " and type of dictionary is <class 'dict'>. \n",
      "\n",
      " Type of list iterator is <class 'list_iterator'>,\n",
      " type of string iterator is <class 'str_iterator'>,\n",
      " type of range object iterator is <class 'range_iterator'>\n",
      " and type of dictionary iterator is <class 'dict_keyiterator'>. \n"
     ]
    }
   ],
   "source": [
    "list_iterable = [1,4,6,3,6,3,\"hi\",'new',4]\n",
    "string_iterable = \"Iterable\"\n",
    "range_iterable = range(1,100,25)\n",
    "dictionary_iterable = {\"id\" : [1,2,3] , \"name\" : [\"html\",\"css\",\"javascript\"] , \"importance\" : [\"high\",\"high\",\"high\"]}\n",
    "print(\" Type of list is {},\\n type of string is {},\\n type of range object is {}\\n and type of dictionary is {}. \"\\\n",
    "      .format(type(list_iterable),type(string_iterable),type(range_iterable),type(dictionary_iterable)))\n",
    "print()\n",
    "\n",
    "list_iterator = iter(list_iterable)\n",
    "string_iterator = iter(string_iterable)\n",
    "range_iterator = iter(range_iterable)\n",
    "dictionary_iterator = iter(dictionary_iterable)\n",
    "print(\" Type of list iterator is {},\\n type of string iterator is {},\\n type of range object iterator is {}\\n and type of dictionary iterator is {}. \"\\\n",
    "      .format(type(list_iterator),type(string_iterator),type(range_iterator),type(dictionary_iterator)))"
   ]
  },
  {
   "cell_type": "code",
   "execution_count": 81,
   "metadata": {},
   "outputs": [
    {
     "name": "stdout",
     "output_type": "stream",
     "text": [
      "using loop  1\n",
      "using next  4\n",
      "using splat operator  6 3 6 3 hi new 4\n"
     ]
    }
   ],
   "source": [
    "#1.List iterator\n",
    "#a.using loops\n",
    "for i in list_iterator:\n",
    "    print(\"using loop \" ,i)\n",
    "    break\n",
    "#b.using next\n",
    "print(\"using next \" ,next(list_iterator))\n",
    "#c.using splat operator\n",
    "print(\"using splat operator \" ,*list_iterator)"
   ]
  },
  {
   "cell_type": "code",
   "execution_count": 82,
   "metadata": {},
   "outputs": [
    {
     "name": "stdout",
     "output_type": "stream",
     "text": [
      "using loop  I\n",
      "using next  t\n",
      "using splat operator  e r a b l e\n"
     ]
    }
   ],
   "source": [
    "#2.String iterator\n",
    "#a.using loops\n",
    "for i in string_iterator:\n",
    "    print(\"using loop \" ,i)\n",
    "    break\n",
    "#b.using next\n",
    "print(\"using next \" ,next(string_iterator))\n",
    "#c.using splat operator\n",
    "print(\"using splat operator \" ,*string_iterator)"
   ]
  },
  {
   "cell_type": "code",
   "execution_count": 83,
   "metadata": {},
   "outputs": [
    {
     "name": "stdout",
     "output_type": "stream",
     "text": [
      "using loop  1\n",
      "using next  26\n",
      "using splat operator  51 76\n"
     ]
    }
   ],
   "source": [
    "#3.Range object iterator\n",
    "#a.using loops\n",
    "for i in range_iterator:\n",
    "    print(\"using loop \" ,i)\n",
    "    break\n",
    "#b.using next\n",
    "print(\"using next \" ,next(range_iterator))\n",
    "#c.using splat operator\n",
    "print(\"using splat operator \" ,*range_iterator)"
   ]
  },
  {
   "cell_type": "code",
   "execution_count": 84,
   "metadata": {},
   "outputs": [
    {
     "name": "stdout",
     "output_type": "stream",
     "text": [
      "using loop  id\n",
      "using next  name\n",
      "using splat operator  importance\n"
     ]
    }
   ],
   "source": [
    "#4.Dictionary iterator\n",
    "#a.using loops\n",
    "for i in dictionary_iterator:\n",
    "    print(\"using loop \" ,i)\n",
    "    break\n",
    "#b.using next\n",
    "print(\"using next \" ,next(dictionary_iterator))\n",
    "#c.using splat operator\n",
    "print(\"using splat operator \" ,*dictionary_iterator)"
   ]
  },
  {
   "cell_type": "code",
   "execution_count": 85,
   "metadata": {},
   "outputs": [
    {
     "name": "stdout",
     "output_type": "stream",
     "text": [
      "File type  <class '_io.TextIOWrapper'>\n",
      "using loop  itrable.\n",
      "\n",
      "using next  iterator.\n",
      "\n",
      "using splat operator enumeratre.\n",
      " items.\n",
      " nditer.\n",
      " iterrows.\n",
      " end.\n"
     ]
    }
   ],
   "source": [
    "#5.File connection iterator\n",
    "file_path = os.path.join(os.getcwd(),\"Files/file_connection_iterating.txt\")\n",
    "file = open(file_path,\"r\")\n",
    "print(\"File type \" , type(file))\n",
    "file_iterator = iter(file)\n",
    "#a.using loops\n",
    "for i in file_iterator:\n",
    "    print(\"using loop \" ,i)\n",
    "    break\n",
    "#b.using next\n",
    "print(\"using next \" ,next(file_iterator))\n",
    "#c.using splat operator\n",
    "print(\"using splat operator\" ,*file_iterator)"
   ]
  },
  {
   "cell_type": "code",
   "execution_count": 86,
   "metadata": {},
   "outputs": [
    {
     "name": "stdout",
     "output_type": "stream",
     "text": [
      "Type of enumerate_object  <class 'enumerate'>\n",
      "enumerate_object  <enumerate object at 0x00000087EFD483F0>\n",
      "enumerate_object  [(0, 1), (1, 2), (2, 3), (3, 6), (4, 7), (5, 9)]\n",
      "chr(65) = A.\n",
      "chr(66) = B.\n",
      "chr(67) = C.\n",
      "chr(68) = D.\n",
      "chr(69) = E.\n",
      "chr(70) = F.\n",
      "chr(71) = G.\n",
      "chr(72) = H.\n",
      "chr(73) = I.\n",
      "chr(74) = J.\n",
      "chr(75) = K.\n",
      "chr(76) = L.\n",
      "chr(77) = M.\n",
      "chr(78) = N.\n",
      "chr(79) = O.\n",
      "chr(80) = P.\n",
      "chr(81) = Q.\n",
      "chr(82) = R.\n",
      "chr(83) = S.\n",
      "chr(84) = T.\n",
      "chr(85) = U.\n",
      "chr(86) = V.\n",
      "chr(87) = W.\n",
      "chr(88) = X.\n",
      "chr(89) = Y.\n",
      "chr(90) = Z.\n"
     ]
    }
   ],
   "source": [
    "#enumerate - adds a counter to an iterable object.\n",
    "list1 = [1,2,3,6,7,9]\n",
    "enumerate_object = enumerate(list1)\n",
    "print(\"Type of enumerate_object \",type(enumerate_object))\n",
    "print(\"enumerate_object \",enumerate_object)\n",
    "print(\"enumerate_object \",list(enumerate_object))\n",
    "#start parameter of enumerate\n",
    "for index , ch in enumerate(range(65,91),start = 65) :\n",
    "    print(\"chr({}) = {}.\".format(index,chr(ch)))"
   ]
  },
  {
   "cell_type": "code",
   "execution_count": 87,
   "metadata": {},
   "outputs": [
    {
     "name": "stdout",
     "output_type": "stream",
     "text": [
      "4 4 4\n",
      "Type of lists is <class 'zip'>.\n",
      "Value from list1 is 1, from list2 is 0,from list3 is A .\n",
      "Value from list1 is 2, from list2 is 1,from list3 is B .\n",
      "Value from list1 is 3, from list2 is 2,from list3 is C .\n",
      "Value from list1 is 4, from list2 is 3,from list3 is D .\n"
     ]
    }
   ],
   "source": [
    "#zip - concatenate a number of iterables together(Must be of the same length to work correctly).\n",
    "list1 = list(range(1,5))\n",
    "list2 = range(4)\n",
    "list3 = list(map(lambda x : chr(x),range(65,69)))\n",
    "print(len(list1),len(list2),len(list3))\n",
    "lists = zip(list1,list2,list3)\n",
    "print(\"Type of lists is {}.\".format(type(lists)))\n",
    "for i , j , k in lists :\n",
    "    print(\"Value from list1 is {}, from list2 is {},from list3 is {} .\".format(i,j,k))"
   ]
  },
  {
   "cell_type": "code",
   "execution_count": 88,
   "metadata": {},
   "outputs": [
    {
     "data": {
      "text/plain": [
       "[(1, 2, 3, 4), (0, 1, 2, 3), ('A', 'B', 'C', 'D')]"
      ]
     },
     "execution_count": 88,
     "metadata": {},
     "output_type": "execute_result"
    }
   ],
   "source": [
    "#Unpack\n",
    "list1 = list(range(1,5))\n",
    "list2 = range(4)\n",
    "list3 = list(map(lambda x : chr(x),range(65,69)))\n",
    "lists = zip(list1,list2,list3)\n",
    "list(zip(*lists))"
   ]
  },
  {
   "cell_type": "code",
   "execution_count": 89,
   "metadata": {},
   "outputs": [
    {
     "name": "stdout",
     "output_type": "stream",
     "text": [
      "(1, 0, 'A') (2, 1, 'B') (3, 2, 'C') (4, 3, 'D')\n"
     ]
    }
   ],
   "source": [
    "list1 = list(range(1,5))\n",
    "list2 = range(4)\n",
    "list3 = list(map(lambda x : chr(x),range(65,69)))\n",
    "lists = zip(list1,list2,list3)\n",
    "print(*lists)"
   ]
  },
  {
   "cell_type": "code",
   "execution_count": 90,
   "metadata": {},
   "outputs": [
    {
     "name": "stdout",
     "output_type": "stream",
     "text": [
      "fisrt chunk \n",
      "           CARS  FRUITS  COLORS  AGE\n",
      "id = 0   MAZDA  BANANA   WHITE   35\n",
      "id = 1  TOYOTA  BANANA  YELLOW   22\n",
      "id = 2  TOYOTA  ORANGE     RED   25\n",
      "--------------------------------\n",
      "second chunk \n",
      "           CARS  FRUITS COLORS  AGE\n",
      "id = 3  TOYOTA   APPLE   GRAY   31\n",
      "id = 4  TOYOTA  ORANGE  GREEN   36\n",
      "id = 5  TOYOTA   APPLE  GREEN   40\n"
     ]
    }
   ],
   "source": [
    "#Using iterators for big data - using of chunks\n",
    "df = pd.read_csv(write_path, chunksize = 3,names = keys,index_col = 1)\n",
    "print(\"fisrt chunk \\n\",next(df))\n",
    "print(\"--------------------------------\")\n",
    "print(\"second chunk \\n\",next(df))"
   ]
  },
  {
   "cell_type": "markdown",
   "metadata": {},
   "source": [
    "<h4>List Comprehension</h4>\n",
    "<p>\n",
    "    Building a list from another list, tuple, dataframe's column ...etc.<br/>\n",
    "    Components :\n",
    "    <ul>\n",
    "        <li>Iterable</li>\n",
    "        <li>Iterator variable</li>\n",
    "        <li>Output expression</li>\n",
    "    </ul>\n",
    "</p>"
   ]
  },
  {
   "cell_type": "code",
   "execution_count": 91,
   "metadata": {},
   "outputs": [
    {
     "data": {
      "text/plain": [
       "[3, 4, 5, 6, 7, 8, 9, 10, 11, 12]"
      ]
     },
     "execution_count": 91,
     "metadata": {},
     "output_type": "execute_result"
    }
   ],
   "source": [
    "iterable = list(range(1,11))\n",
    "list_var = [iterator_variable + 2 for iterator_variable in iterable]\n",
    "list_var"
   ]
  },
  {
   "cell_type": "markdown",
   "metadata": {},
   "source": [
    "<h4>Advanced Comprehension</h4>\n",
    "<ul>\n",
    "    <li>Conditionals on the iterable</li>\n",
    "    <li>Conditionals on the output expressions</li>\n",
    "    <li>Dictionary Comprehenion</li>\n",
    "</ul>"
   ]
  },
  {
   "cell_type": "code",
   "execution_count": 92,
   "metadata": {},
   "outputs": [
    {
     "data": {
      "text/plain": [
       "[2, 4, 6, 8]"
      ]
     },
     "execution_count": 92,
     "metadata": {},
     "output_type": "execute_result"
    }
   ],
   "source": [
    "#Conditional on the iterable\n",
    "li = [x for x in range(1,10) if x %2 == 0]\n",
    "li"
   ]
  },
  {
   "cell_type": "code",
   "execution_count": 93,
   "metadata": {},
   "outputs": [
    {
     "data": {
      "text/plain": [
       "['b', 'b', 'b', 'b', 'b', 'b', 'a', 'a', 'a', 'a']"
      ]
     },
     "execution_count": 93,
     "metadata": {},
     "output_type": "execute_result"
    }
   ],
   "source": [
    "#Conditionals on the output expression\n",
    "li = [\"a\" if x > 5 else \"b\" for x in range(10)]\n",
    "li"
   ]
  },
  {
   "cell_type": "code",
   "execution_count": 94,
   "metadata": {},
   "outputs": [
    {
     "data": {
      "text/plain": [
       "{0: 'A', 1: 'B', 2: 'C', 3: 'D', 4: 'E'}"
      ]
     },
     "execution_count": 94,
     "metadata": {},
     "output_type": "execute_result"
    }
   ],
   "source": [
    "#Dictionary Comprehension\n",
    "dic = {index : chr(value) for index , value in enumerate(range(65,70))}\n",
    "dic"
   ]
  },
  {
   "cell_type": "code",
   "execution_count": 95,
   "metadata": {},
   "outputs": [
    {
     "name": "stdout",
     "output_type": "stream",
     "text": [
      "Type of <generator object <genexpr> at 0x00000087EFD34ED0> is <class 'generator'>\n"
     ]
    }
   ],
   "source": [
    "#Generator expressions - same as list comprehension but with () instead of [] .\n",
    "#Lists are stored in memory,but generators not.\n",
    "generator = (x for x in range(4))\n",
    "print(\"Type of {} is {}\".format(generator,type(generator)))"
   ]
  },
  {
   "cell_type": "code",
   "execution_count": 96,
   "metadata": {},
   "outputs": [
    {
     "name": "stdout",
     "output_type": "stream",
     "text": [
      "0\n",
      "1\n",
      "2\n",
      "3\n"
     ]
    }
   ],
   "source": [
    "for i in generator :\n",
    "    print(i)"
   ]
  },
  {
   "cell_type": "code",
   "execution_count": 97,
   "metadata": {},
   "outputs": [
    {
     "name": "stdout",
     "output_type": "stream",
     "text": [
      "[[0, 1, 2, 3], [0, 1, 2, 3], [0, 1, 2, 3], [0, 1, 2, 3]]\n"
     ]
    }
   ],
   "source": [
    "#Using list comprehension to build a 2d list(matrix)\n",
    "matrix = [[x for x in range(4)] for y in range(4)]\n",
    "print(matrix)"
   ]
  },
  {
   "cell_type": "markdown",
   "metadata": {},
   "source": [
    "<h4>Generator Functions</h4>\n",
    "<p>\n",
    "    The same as normal function, but instead of using return it uses yield.\n",
    "    <br/>\n",
    "    The output of a generator function is a generator object.\n",
    "</p>"
   ]
  },
  {
   "cell_type": "code",
   "execution_count": 98,
   "metadata": {},
   "outputs": [
    {
     "name": "stdout",
     "output_type": "stream",
     "text": [
      "<generator object generate at 0x00000087EFD34E58>\n",
      "1\n",
      "2\n",
      "3\n",
      "4\n"
     ]
    }
   ],
   "source": [
    "def generate(n) :\n",
    "    \"\"\"Build a generator for number from 1 to n\"\"\"\n",
    "    for i in range(1,n+1) :\n",
    "        yield i\n",
    "        if(i>n) :\n",
    "            break\n",
    "generator = generate(4)\n",
    "print(generator)\n",
    "for i in generator :\n",
    "    print(i)"
   ]
  },
  {
   "cell_type": "code",
   "execution_count": 99,
   "metadata": {},
   "outputs": [
    {
     "name": "stdout",
     "output_type": "stream",
     "text": [
      "{65: 'A', 66: 'B', 67: 'C', 68: 'D', 69: 'E', 70: 'F', 71: 'G', 72: 'H', 73: 'I', 74: 'J', 75: 'K', 76: 'L', 77: 'M', 78: 'N', 79: 'O', 80: 'P', 81: 'Q', 82: 'R', 83: 'S', 84: 'T', 85: 'U', 86: 'V', 87: 'W', 88: 'X', 89: 'Y', 90: 'Z'}\n"
     ]
    }
   ],
   "source": [
    "#Converting from lists to dictionaries\n",
    "list1 = [i for i in range(65,91)]\n",
    "list2 = [chr(i) for i in range(65,91)]\n",
    "dic = dict(zip(list1,list2))\n",
    "print(dic)"
   ]
  },
  {
   "cell_type": "markdown",
   "metadata": {},
   "source": [
    "<h4>Iterator Vs Iterables</h4>"
   ]
  },
  {
   "cell_type": "code",
   "execution_count": 100,
   "metadata": {},
   "outputs": [
    {
     "name": "stdout",
     "output_type": "stream",
     "text": [
      "We,re discussing objects of type <class 'list'> here \n",
      "\n",
      "<class 'list'> is iterable.\n",
      "next(iterator) = 1 .\n",
      "<class 'list'> is not iterator.\n"
     ]
    }
   ],
   "source": [
    "#1.Lists\n",
    "var = [1,2,3,4]\n",
    "print(\"We,re discussing objects of type {} here \\n\".format(type(var)))\n",
    "try :\n",
    "    iterator = iter(var)\n",
    "    print(\"{} is iterable.\".format(type(var)))\n",
    "    print(\"next(iterator) = {} .\".format(next(iterator)))\n",
    "except :\n",
    "    print(\"{} is not iterable.\".format(type(var)))\n",
    "    \n",
    "try :\n",
    "    state = next(var)\n",
    "    print(\"{} is iterator.\".foramt(type(var)))\n",
    "    print(\"state = {} .\".format(state))\n",
    "except :\n",
    "    print(\"{} is not iterator.\".format(type(var)))"
   ]
  },
  {
   "cell_type": "code",
   "execution_count": 101,
   "metadata": {},
   "outputs": [
    {
     "name": "stdout",
     "output_type": "stream",
     "text": [
      "We,re discussing objects of type <class 'str'> here \n",
      "\n",
      "<class 'str'> is iterable.\n",
      "next(iterator) = S .\n",
      "<class 'str'> is not iterator.\n"
     ]
    }
   ],
   "source": [
    "#2.Strings\n",
    "var = \"Strings\"\n",
    "print(\"We,re discussing objects of type {} here \\n\".format(type(var)))\n",
    "try :\n",
    "    iterator = iter(var)\n",
    "    print(\"{} is iterable.\".format(type(var)))\n",
    "    print(\"next(iterator) = {} .\".format(next(iterator)))\n",
    "except :\n",
    "    print(\"{} is not iterable.\".format(type(var)))\n",
    "    \n",
    "try :\n",
    "    state = next(var)\n",
    "    print(\"{} is iterator.\".foramt(type(var)))\n",
    "    print(\"state = {} .\".format(state))\n",
    "except :\n",
    "    print(\"{} is not iterator.\".format(type(var)))"
   ]
  },
  {
   "cell_type": "code",
   "execution_count": 102,
   "metadata": {},
   "outputs": [
    {
     "name": "stdout",
     "output_type": "stream",
     "text": [
      "We,re discussing objects of type <class 'tuple'> here \n",
      "\n",
      "<class 'tuple'> is iterable.\n",
      "next(iterator) = 1 .\n",
      "<class 'tuple'> is not iterator.\n"
     ]
    }
   ],
   "source": [
    "#3.Tuples\n",
    "var = (1,2,3,4)\n",
    "print(\"We,re discussing objects of type {} here \\n\".format(type(var)))\n",
    "try :\n",
    "    iterator = iter(var)\n",
    "    print(\"{} is iterable.\".format(type(var)))\n",
    "    print(\"next(iterator) = {} .\".format(next(iterator)))\n",
    "except :\n",
    "    print(\"{} is not iterable.\".format(type(var)))\n",
    "    \n",
    "try :\n",
    "    state = next(var)\n",
    "    print(\"{} is iterator.\".foramt(type(var)))\n",
    "    print(\"state = {} .\".format(state))\n",
    "except :\n",
    "    print(\"{} is not iterator.\".format(type(var)))"
   ]
  },
  {
   "cell_type": "code",
   "execution_count": 103,
   "metadata": {},
   "outputs": [
    {
     "name": "stdout",
     "output_type": "stream",
     "text": [
      "We,re discussing objects of type <class 'set'> here \n",
      "\n",
      "<class 'set'> is iterable.\n",
      "next(iterator) = 1 .\n",
      "<class 'set'> is not iterator.\n"
     ]
    }
   ],
   "source": [
    "#4.Sets\n",
    "var = set({1,2,4,6,3,2})\n",
    "print(\"We,re discussing objects of type {} here \\n\".format(type(var)))\n",
    "try :\n",
    "    iterator = iter(var)\n",
    "    print(\"{} is iterable.\".format(type(var)))\n",
    "    print(\"next(iterator) = {} .\".format(next(iterator)))\n",
    "except :\n",
    "    print(\"{} is not iterable.\".format(type(var)))\n",
    "    \n",
    "try :\n",
    "    state = next(var)\n",
    "    print(\"{} is iterator.\".foramt(type(var)))\n",
    "    print(\"state = {} .\".format(state))\n",
    "except :\n",
    "    print(\"{} is not iterator.\".format(type(var)))"
   ]
  },
  {
   "cell_type": "code",
   "execution_count": 104,
   "metadata": {},
   "outputs": [
    {
     "name": "stdout",
     "output_type": "stream",
     "text": [
      "We,re discussing objects of type <class 'dict'> here \n",
      "\n",
      "<class 'dict'> is iterable.\n",
      "next(iterator) = index .\n",
      "<class 'dict'> is not iterator.\n"
     ]
    }
   ],
   "source": [
    "#5.Dictionaries\n",
    "var = {\"index\" : list(range(1,5)) , \"id\" : list(range(6,10))}\n",
    "print(\"We,re discussing objects of type {} here \\n\".format(type(var)))\n",
    "try :\n",
    "    iterator = iter(var)\n",
    "    print(\"{} is iterable.\".format(type(var)))\n",
    "    print(\"next(iterator) = {} .\".format(next(iterator)))\n",
    "except :\n",
    "    print(\"{} is not iterable.\".format(type(var)))\n",
    "    \n",
    "try :\n",
    "    state = next(var)\n",
    "    print(\"{} is iterator.\".foramt(type(var)))\n",
    "    print(\"state = {} .\".format(state))\n",
    "except :\n",
    "    print(\"{} is not iterator.\".format(type(var)))"
   ]
  },
  {
   "cell_type": "code",
   "execution_count": 105,
   "metadata": {},
   "outputs": [
    {
     "name": "stdout",
     "output_type": "stream",
     "text": [
      "We,re discussing objects of type <class '_io.TextIOWrapper'> here \n",
      "\n",
      "<class '_io.TextIOWrapper'> is iterable.\n",
      "next(iterator) = file.txt\n",
      " .\n",
      "<class '_io.TextIOWrapper'> is not iterator.\n"
     ]
    }
   ],
   "source": [
    "#6.File connection\n",
    "connection_path = os.path.join(os.getcwd(),\"Files/file.txt\")\n",
    "var = open(connection_path,\"r\")\n",
    "print(\"We,re discussing objects of type {} here \\n\".format(type(var)))\n",
    "try :\n",
    "    iterator = iter(var)\n",
    "    print(\"{} is iterable.\".format(type(var)))\n",
    "    print(\"next(iterator) = {} .\".format(next(iterator)))\n",
    "except :\n",
    "    print(\"{} is not iterable.\".format(type(var)))\n",
    "    \n",
    "try :\n",
    "    state = next(var)\n",
    "    print(\"{} is iterator.\".foramt(type(var)))\n",
    "    print(\"state = {} .\".format(state))\n",
    "except :\n",
    "    print(\"{} is not iterator.\".format(type(var)))"
   ]
  },
  {
   "cell_type": "code",
   "execution_count": 106,
   "metadata": {},
   "outputs": [
    {
     "name": "stdout",
     "output_type": "stream",
     "text": [
      "We,re discussing objects of type <class 'generator'> here \n",
      "\n",
      "<class 'generator'> is iterable.\n",
      "next(iterator) = 0 .\n",
      "<class 'generator'> is not iterator.\n"
     ]
    }
   ],
   "source": [
    "#7.Generator\n",
    "var = (x for x in range(11))\n",
    "print(\"We,re discussing objects of type {} here \\n\".format(type(var)))\n",
    "try :\n",
    "    iterator = iter(var)\n",
    "    print(\"{} is iterable.\".format(type(var)))\n",
    "    print(\"next(iterator) = {} .\".format(next(iterator)))\n",
    "except :\n",
    "    print(\"{} is not iterable.\".format(type(var)))\n",
    "    \n",
    "try :\n",
    "    state = next(var)\n",
    "    print(\"{} is iterator.\".foramt(type(var)))\n",
    "    print(\"state = {} .\".format(state))\n",
    "except :\n",
    "    print(\"{} is not iterator.\".format(type(var)))"
   ]
  },
  {
   "cell_type": "code",
   "execution_count": 107,
   "metadata": {},
   "outputs": [
    {
     "name": "stdout",
     "output_type": "stream",
     "text": [
      "We,re discussing objects of type <class 'zip'> here \n",
      "\n",
      "<class 'zip'> is iterable.\n",
      "next(iterator) = (0, 10) .\n",
      "<class 'zip'> is not iterator.\n"
     ]
    }
   ],
   "source": [
    "#7.Zip object\n",
    "var =zip(range(0,10),range(10,20))\n",
    "print(\"We,re discussing objects of type {} here \\n\".format(type(var)))\n",
    "try :\n",
    "    iterator = iter(var)\n",
    "    print(\"{} is iterable.\".format(type(var)))\n",
    "    print(\"next(iterator) = {} .\".format(next(iterator)))\n",
    "except :\n",
    "    print(\"{} is not iterable.\".format(type(var)))\n",
    "    \n",
    "try :\n",
    "    state = next(var)\n",
    "    print(\"{} is iterator.\".foramt(type(var)))\n",
    "    print(\"state = {} .\".format(state))\n",
    "except :\n",
    "    print(\"{} is not iterator.\".format(type(var)))"
   ]
  },
  {
   "cell_type": "markdown",
   "metadata": {},
   "source": [
    "<h2>28/11/2020</h2>"
   ]
  }
 ],
 "metadata": {
  "kernelspec": {
   "display_name": "Python 3",
   "language": "python",
   "name": "python3"
  },
  "language_info": {
   "codemirror_mode": {
    "name": "ipython",
    "version": 3
   },
   "file_extension": ".py",
   "mimetype": "text/x-python",
   "name": "python",
   "nbconvert_exporter": "python",
   "pygments_lexer": "ipython3",
   "version": "3.7.3"
  }
 },
 "nbformat": 4,
 "nbformat_minor": 2
}
